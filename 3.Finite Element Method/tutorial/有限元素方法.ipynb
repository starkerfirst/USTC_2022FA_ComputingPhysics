{
 "cells": [
  {
   "cell_type": "markdown",
   "id": "1f1f1a42",
   "metadata": {},
   "source": [
    "以解泊松方程为例，介绍有限元素方法的思路  \n",
    "根据$\\vec{E}=-\\nabla\\varphi$和$\\nabla\\cdot\\vec{E}=\\frac{\\rho}{\\varepsilon}$，可以得到描述电势$\\varphi$和电荷密度$\\rho$的关系的泊松方程  \n",
    "$$\\nabla^2\\varphi=-\\frac{\\rho}{\\varepsilon}$$\n",
    "这个方程也可以通过拉格朗日量得到，如果将$\\varphi$视为广义位移，则拉格朗日量为  \n",
    "$$L=\\frac{\\varepsilon}{2}|\\nabla\\varphi|^2-\\rho\\varphi$$\n",
    "将这个拉格朗日量代入欧拉-拉格朗日方程，就可以得到上面的泊松方程  \n",
    "欧拉-拉格朗日方程是根据作用量的变分为0推导得到的，因此泊松方程等价于  \n",
    "$$\\delta S(\\varphi)=\\delta\\left(\\int_{V}{L(\\varphi)}dV\\right)=0$$\n",
    "对泛函变分的严格求解十分困难，但是可以把求解区域$V$分成很多小单元  \n",
    "总泛函等于每个小单元的泛函之和，泛函的变分近似为对每个小单元求导  \n",
    "从而可以得到泛函变分等于0的近似解，这个解也是等价的微分方程的近似解  \n",
    "这个思路也可以应用到求解其他微分方程上：  \n",
    "找到微分方程对应的泛函，对求解区域进行划分，求解泛函变分等于0的近似解"
   ]
  },
  {
   "cell_type": "markdown",
   "id": "f317af90",
   "metadata": {},
   "source": [
    "用有限元方法计算方程的数值解  \n",
    "$$\n",
    "\\left \\{\n",
    "    {\\begin{array}{cc}\n",
    "        \\frac{\\partial^2 \\phi}{\\partial x^2}+\\frac{\\partial^2 \\phi}{\\partial y^2}=0,0\\leq x,y\\leq1 \\\\\n",
    "        \\phi(x,0)=\\phi(x,1)=0,\\phi(0,y)=\\phi(1,y)=1 \\\\\n",
    "    \\end{array}}\n",
    "\\right .\n",
    "$$"
   ]
  },
  {
   "cell_type": "markdown",
   "id": "99f1ad64",
   "metadata": {},
   "source": [
    "计算格式建立的过程比较复杂，这里直接使用课本上的结论"
   ]
  },
  {
   "cell_type": "code",
   "execution_count": 1,
   "id": "8ffc587a",
   "metadata": {},
   "outputs": [],
   "source": [
    "import numpy as np\n",
    "import matplotlib.pyplot as plt"
   ]
  },
  {
   "cell_type": "markdown",
   "id": "789f980c",
   "metadata": {},
   "source": [
    "对求解区域做以下形式的三角形元素划分，这样划分可以让后面的流程相对简单"
   ]
  },
  {
   "cell_type": "code",
   "execution_count": 2,
   "id": "93369caf",
   "metadata": {},
   "outputs": [
    {
     "data": {
      "image/png": "[encoded data removed]",
      "text/plain": [
       "<Figure size 500x500 with 1 Axes>"
      ]
     },
     "metadata": {
      "needs_background": "light"
     },
     "output_type": "display_data"
    }
   ],
   "source": [
    "plt.figure(figsize=(5, 5), dpi=100)\n",
    "plt.plot([0, 0], [0, 1], color='blue')\n",
    "plt.plot([0, 1], [1, 1], color='blue')\n",
    "plt.plot([1, 1], [1, 0], color='blue')\n",
    "plt.plot([1, 0], [0, 0], color='blue')\n",
    "plt.plot([1/2, 1/2], [0, 1], color='blue')\n",
    "plt.plot([0, 1], [1/2, 1/2], color='blue')\n",
    "plt.plot([1/2, 1], [1, 1/2], color='blue')\n",
    "plt.plot([0, 1/2], [1/2, 0], color='blue')\n",
    "plt.plot([0, 1], [1, 0], color='blue')\n",
    "plt.show()"
   ]
  },
  {
   "cell_type": "markdown",
   "id": "044b9ffc",
   "metadata": {},
   "source": [
    "用矩阵记录求解区域的内部节点和边界节点"
   ]
  },
  {
   "cell_type": "code",
   "execution_count": 3,
   "id": "d08f2159",
   "metadata": {},
   "outputs": [
    {
     "name": "stdout",
     "output_type": "stream",
     "text": [
      "[[ True  True  True  True  True  True  True  True  True  True  True]\n",
      " [ True False False False False False False False False False  True]\n",
      " [ True False False False False False False False False False  True]\n",
      " [ True False False False False False False False False False  True]\n",
      " [ True False False False False False False False False False  True]\n",
      " [ True False False False False False False False False False  True]\n",
      " [ True False False False False False False False False False  True]\n",
      " [ True False False False False False False False False False  True]\n",
      " [ True False False False False False False False False False  True]\n",
      " [ True False False False False False False False False False  True]\n",
      " [ True  True  True  True  True  True  True  True  True  True  True]]\n"
     ]
    }
   ],
   "source": [
    "# 求解区域的范围\n",
    "x_range = [0.0, 1.0]\n",
    "y_range = [0.0, 1.0]\n",
    "\n",
    "# 划分的步长\n",
    "h = 0.1\n",
    "\n",
    "# 每一个点的坐标\n",
    "x = np.arange(x_range[0], x_range[1]+h, h)\n",
    "y = np.arange(y_range[0], y_range[1]+h, h)\n",
    "\n",
    "# 格点数目\n",
    "x_n_grid = len(x)\n",
    "y_n_grid = len(y)\n",
    "\n",
    "# 边界点和求解区域，边界点标记为True，待求点标记为False\n",
    "area = np.full(shape=(x_n_grid, y_n_grid), fill_value=True)\n",
    "area[1: -1, 1: -1] = np.full(shape=(x_n_grid-2, y_n_grid-2), fill_value=False)\n",
    "\n",
    "print(area)"
   ]
  },
  {
   "cell_type": "markdown",
   "id": "c995d8e8",
   "metadata": {},
   "source": [
    "对每一个节点编号，内部节点在前，边界节点在后"
   ]
  },
  {
   "cell_type": "code",
   "execution_count": 4,
   "id": "ceb7f5c9",
   "metadata": {},
   "outputs": [
    {
     "name": "stdout",
     "output_type": "stream",
     "text": [
      "[[ 81  82  83  84  85  86  87  88  89  90  91]\n",
      " [ 92   0   1   2   3   4   5   6   7   8  93]\n",
      " [ 94   9  10  11  12  13  14  15  16  17  95]\n",
      " [ 96  18  19  20  21  22  23  24  25  26  97]\n",
      " [ 98  27  28  29  30  31  32  33  34  35  99]\n",
      " [100  36  37  38  39  40  41  42  43  44 101]\n",
      " [102  45  46  47  48  49  50  51  52  53 103]\n",
      " [104  54  55  56  57  58  59  60  61  62 105]\n",
      " [106  63  64  65  66  67  68  69  70  71 107]\n",
      " [108  72  73  74  75  76  77  78  79  80 109]\n",
      " [110 111 112 113 114 115 116 117 118 119 120]]\n"
     ]
    }
   ],
   "source": [
    "# 建立编号矩阵，其中的每一个编号对应区域中的一个节点\n",
    "index_matrix = np.zeros((x_n_grid, y_n_grid), dtype=int)\n",
    "k = 0\n",
    "\n",
    "# 先对内部节点编号\n",
    "for i in range(x_n_grid):\n",
    "    for j in range(y_n_grid):\n",
    "        if not area[i, j]:\n",
    "            index_matrix[i, j] = k\n",
    "            k += 1\n",
    "            \n",
    "# 内部节点数            \n",
    "n_inner = k\n",
    "\n",
    "# 然后对边界节点编号\n",
    "for i in range(x_n_grid):\n",
    "    for j in range(y_n_grid):\n",
    "        if area[i, j]:\n",
    "            index_matrix[i, j] = k\n",
    "            k += 1\n",
    "\n",
    "# 边界节点数        \n",
    "n_edge = k - n_inner\n",
    "            \n",
    "print(index_matrix)"
   ]
  },
  {
   "cell_type": "markdown",
   "id": "1ad9fcda",
   "metadata": {},
   "source": [
    "初始化所有的三角形元素  \n",
    "注意画图和矩阵表示的不同  \n",
    "画图时x为横坐标，y为纵坐标，(0,0)位于左下方  \n",
    "矩阵中x为行标，y为列标，[0,0]位于左上方  \n",
    "图中从左上到右下的划分在矩阵中是从右上到左下  \n",
    "除去矩阵左侧1列和下方1行，每个节点向左下划分2个三角形元素  \n",
    "可以没有重复地得到所有三角形元素"
   ]
  },
  {
   "cell_type": "code",
   "execution_count": 5,
   "id": "ef3c0944",
   "metadata": {},
   "outputs": [
    {
     "name": "stdout",
     "output_type": "stream",
     "text": [
      "200\n"
     ]
    }
   ],
   "source": [
    "class element:\n",
    "    def __init__(self, index_list, x_list, y_list):\n",
    "        # 记录三角形元素的三个节点编号和坐标\n",
    "        self.index = index_list\n",
    "        self.x = x_list\n",
    "        self.y = y_list\n",
    "        # 计算三角形元素的b和c\n",
    "        self.b = [self.y[(i+1)%3]-self.y[(i+2)%3] for i in range(3)]\n",
    "        self.c = [self.x[(i+2)%3]-self.x[(i+1)%3] for i in range(3)]\n",
    "\n",
    "e_list = []\n",
    "\n",
    "for i in range(x_n_grid-1):\n",
    "    for j in range(1, y_n_grid):\n",
    "        e_list.append(\n",
    "            element(\n",
    "                index_list=[index_matrix[i, j], index_matrix[i, j-1], index_matrix[i+1, j-1]],\n",
    "                x_list=[x[i], x[i], x[i+1]],\n",
    "                y_list=[y[j], y[j-1], y[j-1]]\n",
    "            )\n",
    "        )\n",
    "        e_list.append(\n",
    "            element(\n",
    "                index_list=[index_matrix[i, j], index_matrix[i+1, j-1], index_matrix[i+1, j]],\n",
    "                x_list=[x[i], x[i+1], x[i+1]],\n",
    "                y_list=[y[j], y[j-1], y[j]]\n",
    "            )\n",
    "        )\n",
    "\n",
    "print(len(e_list))"
   ]
  },
  {
   "cell_type": "markdown",
   "id": "5b02e58a",
   "metadata": {},
   "source": [
    "计算矩阵$K$，矩阵中的元素根据以下公式计算  \n",
    "$$k_{ll}=\\sum_e{k_{ll}^e}$$\n",
    "$$k_{ij}=\\sum_e{k_{ij}^e},i\\neq j$$\n",
    "$$k_{ij}^e=\\frac{1}{4\\Delta}(b_ib_j+c_ic_j)$$\n",
    "其中$e$表示包含节点$l$或节点$ij$的三角形元素，$\\Delta$是三角形元素的面积，$bc$在整理三角形元素时已经计算过了"
   ]
  },
  {
   "cell_type": "code",
   "execution_count": 6,
   "id": "a208db29",
   "metadata": {},
   "outputs": [
    {
     "name": "stdout",
     "output_type": "stream",
     "text": [
      "[[ 4.  -1.   0.  ...  0.   0.   0. ]\n",
      " [-1.   4.  -1.  ...  0.   0.   0. ]\n",
      " [ 0.  -1.   4.  ...  0.   0.   0. ]\n",
      " ...\n",
      " [ 0.   0.   0.  ...  2.  -0.5  0. ]\n",
      " [ 0.   0.   0.  ... -0.5  2.  -0.5]\n",
      " [ 0.   0.   0.  ...  0.  -0.5  1. ]]\n"
     ]
    }
   ],
   "source": [
    "Delta = (x_range[1] - x_range[0])*(y_range[1] - y_range[0])/len(e_list)\n",
    "\n",
    "K = np.zeros((n_inner + n_edge, n_inner + n_edge))\n",
    "\n",
    "# K矩阵是对称的，所以只计算一半\n",
    "for e in e_list:\n",
    "    for i in range(3):\n",
    "        for j in range(i, 3):\n",
    "            K[e.index[i], e.index[j]] += (e.b[i]*e.b[j] + e.c[i]*e.c[j])/4/Delta\n",
    "\n",
    "# 根据对称性补全K矩阵\n",
    "K += K.T - np.diag(np.diag(K))\n",
    "print(K)"
   ]
  },
  {
   "cell_type": "markdown",
   "id": "90b85d6f",
   "metadata": {},
   "source": [
    "将边界条件引入后，需要求解的方程为  \n",
    "$$(K_{11})(\\Phi_1)=(P_1)-(K_{12})(\\Phi_2)$$\n",
    "其中$(\\Phi_1)$是需要求解的未知数，$(K_{11})(K_{12})$可以从$K$中截取，本例中显然$(P_1)$的元素都是0  \n",
    "还需要设置边界条件有关的$(\\Phi_2)$，根据前面的编号，前11个边界节点和后11个边界节点的值为1，其他边界节点的值为0"
   ]
  },
  {
   "cell_type": "code",
   "execution_count": 7,
   "id": "0c5b73b9",
   "metadata": {},
   "outputs": [],
   "source": [
    "K_11 = K[:n_inner, :n_inner]\n",
    "K_12 = K[:n_inner, n_inner:]\n",
    "Phi_2 = np.zeros((n_edge, 1))\n",
    "Phi_2[:x_n_grid, 0] = Phi_2[-x_n_grid:, 0] = np.ones(x_n_grid)"
   ]
  },
  {
   "cell_type": "markdown",
   "id": "73b93c10",
   "metadata": {},
   "source": [
    "将方程组写成$Ax=b$的形式"
   ]
  },
  {
   "cell_type": "code",
   "execution_count": 8,
   "id": "0bde5e4e",
   "metadata": {},
   "outputs": [
    {
     "data": {
      "image/png": "[encoded data removed]",
      "text/plain": [
       "<Figure size 1000x1000 with 1 Axes>"
      ]
     },
     "metadata": {
      "needs_background": "light"
     },
     "output_type": "display_data"
    }
   ],
   "source": [
    "A = K_11\n",
    "b = -K_12.dot(Phi_2)\n",
    "\n",
    "plt.figure(figsize=(10, 10), dpi=100)\n",
    "plt.imshow(A)\n",
    "plt.show()"
   ]
  },
  {
   "cell_type": "markdown",
   "id": "ed38c242",
   "metadata": {},
   "source": [
    "这里得到的方程组和有限差分法的例子中的方程组是等价的"
   ]
  },
  {
   "cell_type": "markdown",
   "id": "47645375",
   "metadata": {},
   "source": [
    "用超松弛迭代求解，和有限差分法的例子一样，用迭代法求解方程组不用矩阵，而是用以下迭代公式  \n",
    "$$\\phi^{(m+1)}_i=(1-\\omega)\\phi^{(m)}_i+\\frac{\\omega}{k_{ii}}\\left(-\\sum_{j=1}^{i-1}k_{ij}{\\phi^{(m+1)}_j}-\\sum_{j=i+1}^{n_0}{k_{ij}\\phi^{(m)}_j}+p_i\\right)$$"
   ]
  },
  {
   "cell_type": "code",
   "execution_count": 9,
   "id": "69b7319b",
   "metadata": {},
   "outputs": [
    {
     "name": "stdout",
     "output_type": "stream",
     "text": [
      "Converges in 34 steps\n"
     ]
    }
   ],
   "source": [
    "# 上面的公式中，大部分k_ij都等于0\n",
    "# 只需要计算k_ij不为0的部分\n",
    "# 因此先记录k_ij不为0的编号\n",
    "k_ij_index = []\n",
    "for i in range(n_inner):\n",
    "    k_ij_index.append([])\n",
    "    for j in range(n_inner+n_edge):\n",
    "        if K[i, j] != 0 and i != j:\n",
    "            k_ij_index[-1].append(j)\n",
    "            \n",
    "omega = 1.5\n",
    "\n",
    "# 迭代初值，包含内部节点和边界节点\n",
    "# 在矩阵运算中Phi是一个列向量\n",
    "# 在迭代公式中，使用行向量更加简单\n",
    "# 所以使用行向量记录Phi的每一个值\n",
    "X = np.hstack((np.ones(n_inner), Phi_2.T[0]))\n",
    "X0 = X.copy()\n",
    "\n",
    "# 迭代时只改变内部节点\n",
    "for i in range(n_inner):\n",
    "    X[i] = (1-omega)*X[i]\n",
    "    a = omega/K[i, i]\n",
    "    for j in k_ij_index[i]:\n",
    "        X[i] -= a*K[i, j]*X[j]\n",
    "\n",
    "m = 1\n",
    "\n",
    "while np.max(abs(X-X0)) > 1e-6:\n",
    "    X0 = X.copy()\n",
    "    for i in range(n_inner):\n",
    "        X[i] = (1-omega)*X[i]\n",
    "        a = omega/K[i, i]\n",
    "        for j in k_ij_index[i]:\n",
    "            X[i] -= a*K[i, j]*X[j]\n",
    "    m += 1\n",
    "    \n",
    "print(\"Converges in %d steps\"%m)"
   ]
  },
  {
   "cell_type": "code",
   "execution_count": 10,
   "id": "e8d0f5b2",
   "metadata": {},
   "outputs": [
    {
     "data": {
      "image/png": "[encoded data removed]",
      "text/plain": [
       "<Figure size 500x500 with 1 Axes>"
      ]
     },
     "metadata": {
      "needs_background": "light"
     },
     "output_type": "display_data"
    }
   ],
   "source": [
    "Phi = X.copy()\n",
    "\n",
    "value_matrix = np.zeros((x_n_grid, y_n_grid))\n",
    "\n",
    "# 将解填入求解区域中\n",
    "for i in range(x_n_grid):\n",
    "    for j in range(y_n_grid):\n",
    "        value_matrix[i, j] = Phi[index_matrix[i, j]]\n",
    "            \n",
    "fig = plt.figure(figsize=(5, 5), dpi=100)\n",
    "plt.contourf(x, y, value_matrix.T)\n",
    "plt.show()"
   ]
  },
  {
   "cell_type": "markdown",
   "id": "8a5638f1",
   "metadata": {},
   "source": [
    "以上内容只是演示有限元素方法的流程，不是最优解法。"
   ]
  }
 ],
 "metadata": {
  "kernelspec": {
   "display_name": "Python 3 (ipykernel)",
   "language": "python",
   "name": "python3"
  },
  "language_info": {
   "codemirror_mode": {
    "name": "ipython",
    "version": 3
   },
   "file_extension": ".py",
   "mimetype": "text/x-python",
   "name": "python",
   "nbconvert_exporter": "python",
   "pygments_lexer": "ipython3",
   "version": "3.9.12"
  }
 },
 "nbformat": 4,
 "nbformat_minor": 5
}
