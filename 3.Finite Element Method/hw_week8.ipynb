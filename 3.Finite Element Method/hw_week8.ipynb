{
 "cells": [
  {
   "cell_type": "code",
   "execution_count": 52,
   "metadata": {},
   "outputs": [
    {
     "name": "stdout",
     "output_type": "stream",
     "text": [
      "[[ True  True  True ...  True  True  True]\n",
      " [ True False False ... False False  True]\n",
      " [ True False False ... False False  True]\n",
      " ...\n",
      " [ True False False ... False False  True]\n",
      " [ True False False ... False False  True]\n",
      " [ True  True  True ...  True  True  True]]\n",
      "[[ True  True  True ...  True  True  True]\n",
      " [ True False False ... False  True  True]\n",
      " [ True False False ...  True False  True]\n",
      " ...\n",
      " [ True False  True ... False False  True]\n",
      " [ True  True False ... False False  True]\n",
      " [ True  True  True ...  True  True  True]]\n",
      "[[4851 4852 4853 ... 4949 4950 4951]\n",
      " [4952    0    1 ...   97 4953    0]\n",
      " [4954   98   99 ... 4955    0    0]\n",
      " ...\n",
      " [5146 4850 5147 ...    0    0    0]\n",
      " [5148 5149    0 ...    0    0    0]\n",
      " [5150    0    0 ...    0    0    0]]\n"
     ]
    }
   ],
   "source": [
    "import numpy as np\n",
    "import matplotlib.pyplot as plt\n",
    "\n",
    "#第一步：初始化\n",
    "\n",
    "# 求解区域的范围\n",
    "x_range = [0.0, 1.0]\n",
    "y_range = [0.0, 1.0]\n",
    "\n",
    "# 划分的步长\n",
    "h = 0.01\n",
    "\n",
    "# 每一个点的坐标\n",
    "x = np.arange(x_range[0], x_range[1]+h, h)\n",
    "y = np.arange(y_range[0], y_range[1]+h, h)\n",
    "\n",
    "# 格点数目\n",
    "x_n_grid = len(x)\n",
    "y_n_grid = len(y)\n",
    "\n",
    "# 边界点和求解区域，边界点标记为True，待求点标记为False\n",
    "area = np.full(shape=(x_n_grid, y_n_grid), fill_value=True)\n",
    "area[1: -1, 1: -1] = np.full(shape=(x_n_grid-2, y_n_grid-2), fill_value=False)\n",
    "print(area)\n",
    "for i in range(x_n_grid):\n",
    "    area[i, x_n_grid - i - 1] = True\n",
    "\n",
    "# 建立编号矩阵，其中的每一个编号对应区域中的一个节点\n",
    "index_matrix = np.zeros((x_n_grid, y_n_grid), dtype=int)\n",
    "k = 0\n",
    "\n",
    "# 先对内部节点编号\n",
    "for i in range(x_n_grid):\n",
    "    for j in range(y_n_grid):\n",
    "        if not area[i, j]:\n",
    "            index_matrix[i, j] = k\n",
    "            k += 1\n",
    "        if i + j == x_n_grid - 1:\n",
    "            break\n",
    "            \n",
    "# 内部节点数            \n",
    "n_inner = k\n",
    "\n",
    "# 然后对边界节点编号\n",
    "for i in range(x_n_grid):\n",
    "    for j in range(y_n_grid):\n",
    "        if area[i, j]:\n",
    "            index_matrix[i, j] = k\n",
    "            k += 1\n",
    "        if i + j == x_n_grid - 1:\n",
    "            break\n",
    "\n",
    "\n",
    "# 边界节点数        \n",
    "n_edge = k - n_inner\n",
    "\n",
    "print(area)\n",
    "\n",
    "print(index_matrix)"
   ]
  },
  {
   "cell_type": "code",
   "execution_count": 53,
   "metadata": {},
   "outputs": [
    {
     "name": "stdout",
     "output_type": "stream",
     "text": [
      "10000\n",
      "[[ 4.  -1.   0.  ...  0.   0.   0. ]\n",
      " [-1.   4.  -1.  ...  0.   0.   0. ]\n",
      " [ 0.  -1.   4.  ...  0.   0.   0. ]\n",
      " ...\n",
      " [ 0.   0.   0.  ...  2.  -1.  -0.5]\n",
      " [ 0.   0.   0.  ... -1.   2.   0. ]\n",
      " [ 0.   0.   0.  ... -0.5  0.   0.5]]\n"
     ]
    }
   ],
   "source": [
    "# 第二步：划分区域\n",
    "class element:\n",
    "    def __init__(self, index_list, x_list, y_list):\n",
    "        # 记录三角形元素的三个节点编号和坐标\n",
    "        self.index = index_list\n",
    "        self.x = x_list\n",
    "        self.y = y_list\n",
    "        # 计算三角形元素的b和c\n",
    "        self.b = [self.y[(i+1)%3]-self.y[(i+2)%3] for i in range(3)]\n",
    "        self.c = [self.x[(i+2)%3]-self.x[(i+1)%3] for i in range(3)]\n",
    "\n",
    "e_list = []\n",
    "\n",
    "for i in range(x_n_grid-1):\n",
    "    for j in range(1, y_n_grid): #（i,j）是固定参考点\n",
    "        if(i + j < x_n_grid - 1):\n",
    "            e_list.append(\n",
    "            element(\n",
    "                index_list=[index_matrix[i, j], index_matrix[i, j-1], index_matrix[i+1, j-1]],\n",
    "                x_list=[x[i], x[i], x[i+1]],\n",
    "                y_list=[y[j], y[j-1], y[j-1]]\n",
    "                )\n",
    "            )\n",
    "            e_list.append(\n",
    "                element(\n",
    "                    index_list=[index_matrix[i, j], index_matrix[i+1, j-1], index_matrix[i+1, j]],\n",
    "                    x_list=[x[i], x[i+1], x[i+1]],\n",
    "                    y_list=[y[j], y[j-1], y[j]]\n",
    "                    )\n",
    "                )\n",
    "        if(i + j == x_n_grid - 1):  \n",
    "            e_list.append(\n",
    "                element(\n",
    "                    index_list=[index_matrix[i, j], index_matrix[i, j-1], index_matrix[i+1, j-1]],\n",
    "                    x_list=[x[i], x[i], x[i+1]],\n",
    "                    y_list=[y[j], y[j-1], y[j-1]]\n",
    "                    )\n",
    "            )\n",
    "            break\n",
    "        \n",
    "\n",
    "# 第三步：建立矩阵\n",
    "\n",
    "Delta = (x_range[1] - x_range[0])*(y_range[1] - y_range[0])/len(e_list)/2\n",
    "print(len(e_list))\n",
    "\n",
    "K = np.zeros((n_inner + n_edge, n_inner + n_edge))\n",
    "\n",
    "# K矩阵是对称的，所以只计算一半\n",
    "for e in e_list:\n",
    "    for i in range(3):\n",
    "        for j in range(i, 3):\n",
    "            K[e.index[i], e.index[j]] += (e.b[i]*e.b[j] + e.c[i]*e.c[j])/4/Delta\n",
    "\n",
    "# 根据对称性补全K矩阵\n",
    "K += K.T - np.diag(np.diag(K))\n",
    "print(K)\n",
    "\n",
    "\n"
   ]
  },
  {
   "cell_type": "code",
   "execution_count": 65,
   "metadata": {},
   "outputs": [
    {
     "name": "stdout",
     "output_type": "stream",
     "text": [
      "(1, 5151)\n",
      "[[0.50021887 0.69809029 0.7912668  ... 0.         1.         0.        ]]\n",
      "[[0.         1.         1.         ... 1.         1.         1.        ]\n",
      " [0.         0.50021887 0.69809029 ... 0.99999977 1.                nan]\n",
      " [0.         0.3027852  0.50087549 ... 1.                nan        nan]\n",
      " ...\n",
      " [0.         0.60469468 1.         ...        nan        nan        nan]\n",
      " [0.         1.                nan ...        nan        nan        nan]\n",
      " [0.                nan        nan ...        nan        nan        nan]]\n"
     ]
    }
   ],
   "source": [
    "\n",
    "#边界条件\n",
    "Phi_2 = np.ones((n_edge, 1))\n",
    "for i in range(x_n_grid):\n",
    "    Phi_2[index_matrix[i,0]-index_matrix[0,0],0] = 0\n",
    "\n",
    "\n",
    "K_11 = K[:n_inner, :n_inner]\n",
    "K_12 = K[:n_inner, n_inner:]\n",
    "A = K_11\n",
    "b = -K_12.dot(Phi_2)\n",
    "\n",
    "# 使用矩阵解\n",
    "X = np.linalg.inv(A) @ b\n",
    "\n",
    "\n",
    "X = np.hstack((X.T, Phi_2.T))\n",
    "print(X.shape)\n",
    "print(X)\n",
    "\n",
    "value_matrix = np.zeros((x_n_grid, y_n_grid))\n",
    "\n",
    "# 将解填入求解区域中\n",
    "for i in range(x_n_grid):\n",
    "    for j in range(y_n_grid):\n",
    "        if(i + j <= x_n_grid - 1):\n",
    "            value_matrix[i, j] = X[0,index_matrix[i, j]]\n",
    "        if(i + j > x_n_grid - 1): #填入空白\n",
    "            value_matrix[i, j] = None\n",
    "\n",
    "print(value_matrix)\n"
   ]
  },
  {
   "cell_type": "code",
   "execution_count": 72,
   "metadata": {},
   "outputs": [
    {
     "data": {
      "image/png": "[encoded data removed]",
      "text/plain": [
       "<Figure size 500x500 with 2 Axes>"
      ]
     },
     "metadata": {
      "needs_background": "light"
     },
     "output_type": "display_data"
    }
   ],
   "source": [
    "#作图\n",
    "fig = plt.figure(figsize=(5, 5), dpi=100)\n",
    "plt.contourf(x, y, value_matrix.T)\n",
    "plt.colorbar()\n",
    "plt.show()"
   ]
  }
 ],
 "metadata": {
  "kernelspec": {
   "display_name": "Python 3.9.7 ('base')",
   "language": "python",
   "name": "python3"
  },
  "language_info": {
   "codemirror_mode": {
    "name": "ipython",
    "version": 3
   },
   "file_extension": ".py",
   "mimetype": "text/x-python",
   "name": "python",
   "nbconvert_exporter": "python",
   "pygments_lexer": "ipython3",
   "version": "3.9.7"
  },
  "orig_nbformat": 4,
  "vscode": {
   "interpreter": {
    "hash": "0b7b812933345d26f0b58fb443cd8249e5efdef841fff77405b77cb1b87b4bd3"
   }
  }
 },
 "nbformat": 4,
 "nbformat_minor": 2
}
