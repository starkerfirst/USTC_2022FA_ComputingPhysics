{
 "cells": [
  {
   "cell_type": "markdown",
   "id": "459e120e",
   "metadata": {},
   "source": [
    "中心为$\\boldsymbol{0}$半径为R的n维球的定义为  \n",
    "$$\\sum_{i=1}^{n}{x_i^2}=R^2,n=1,2,3,\\cdots$$\n",
    "N维球的体积可以通过微积分计算  \n",
    "例如一维“球”  \n",
    "$$2\\int_{0}^{R}{dx_1}$$\n",
    "二维“球”  \n",
    "$$4\\int_{0}^{R}{dx_1\\int_{0}^{\\sqrt{R^2-x_1^2}}{dx_2}}$$\n",
    "三维球\n",
    "$$8\\int_{0}^{R}{dx_1\\int_{0}^{\\sqrt{R^2-x_1^2}}{dx_2\\int_{0}^{\\sqrt{R^2-x_1^2-x_2^2}}{dx_3}}}$$\n",
    "n维球\n",
    "$$V_n(R)=2^n\\int_{0}^{R}{dx_1\\int_{0}^{\\sqrt{R^2-x_1^2}}{dx_2\\int_{0}^{\\sqrt{R^2-x_1^2-x_2^2}}{dx_3\\cdots\\int_{0}^{\\sqrt{R^2-\\sum_{i=1}^{n-1}{x_i^2}}}dx_n}}}$$\n",
    "直接计算这个积分十分困难，需要构造一个递推公式  \n",
    "n维球的体积只与半径R有关，并且有与$R^n$相同的量纲，因此体积可以写成以下形式  \n",
    "$$V_n(R)=C_nR^n$$\n",
    "$C_n$是无量纲的常数，从n维球体积的公式中可以得到  \n",
    "$$V_n(R)=2\\int_{0}^{R}{V_{n-1}\\left(\\sqrt{R^2-x^2}\\right)dx}$$\n",
    "$$\\frac{C_nR^n}{2C_{n-1}}=\\int_{0}^{R}{\\left(R^2-x^2\\right)^{\\frac{n-1}{2}}dx}$$\n",
    "令$t=\\left(R^2-x^2\\right)/R^2$  \n",
    "$$\\frac{C_nR^n}{2C_{n-1}}=\\frac{R^n}{2}\\int_{0}^{1}{t^{\\frac{n-1}{2}}(1-t)^{-\\frac{1}{2}}dt}$$\n",
    "$$\\frac{C_n}{C_{n-1}}=B\\left(\\frac{n+1}{2},\\frac{1}{2}\\right)=\\frac{\\Gamma\\left(\\frac{n+1}{2}\\right)\\Gamma\\left(\\frac{1}{2}\\right)}{\\Gamma\\left(\\frac{n+2}{2}\\right)}$$\n",
    "递推得到$C_n/C_1$  \n",
    "$$\\frac{C_n}{C_{1}}=\\frac{\\pi^{n/2}}{n\\Gamma(n/2)}$$\n",
    "$C_1=2$  \n",
    "$$C_n=\\frac{\\pi^{n/2}}{\\Gamma(n/2+1)}$$\n",
    "$$V_n(R)=\\frac{\\pi^{n/2}}{\\Gamma(n/2+1)}R^n$$"
   ]
  },
  {
   "cell_type": "markdown",
   "id": "77ba80d9",
   "metadata": {},
   "source": [
    "高维积分的求解一般是十分困难的，即使是看起来简单的球形，解析求解也十分困难，使用蒙特卡罗方法计算则会简单很多。  \n",
    "半径为1的n维球的体积可以用积分式写成符合蒙特卡罗方法要求的形式  \n",
    "$$I=2^n\\int_{0}^{1}{dx_1\\int_{0}^{1}{dx_2\\cdots\\int_{0}^{1}{dx_nf(x_1,x_2,\\cdots,x_n)}}}$$\n",
    "其中  \n",
    "$$f(x_1,x_2,\\cdots,x_n)=\n",
    "\\left\\{\n",
    "    {\n",
    "    \\begin{array}{cc}\n",
    "        1 ,& \\sum_{i=1}^{n}{x_i^2}\\leq1 \\\\\n",
    "        0 ,& \\sum_{i=1}^{n}{x_i^2}>1 \\\\\n",
    "    \\end{array}\n",
    "    }\n",
    "\\right.\n",
    "$$\n",
    "这样就可以用平均值法计算这个积分的估计值，具体过程如下：  \n",
    "产生一组$[0,1]$上均匀分布的随机数$\\boldsymbol{\\xi}=(\\xi_1,\\xi_2,\\cdots,\\xi_n)$，并计算函数值$f(\\boldsymbol{\\xi})$，重复多次，以函数值的期望值作为积分的估计值  \n",
    "下面计算半径为1的5维球的体积  \n",
    "首先计算理论值  "
   ]
  },
  {
   "cell_type": "code",
   "execution_count": 1,
   "id": "11310715",
   "metadata": {},
   "outputs": [],
   "source": [
    "import numpy as np\n",
    "from numpy.random import default_rng\n",
    "from scipy.special import gamma\n",
    "\n",
    "rng = default_rng()"
   ]
  },
  {
   "cell_type": "code",
   "execution_count": 2,
   "id": "398965d6",
   "metadata": {
    "scrolled": true
   },
   "outputs": [
    {
     "name": "stdout",
     "output_type": "stream",
     "text": [
      "5.263789013914324\n"
     ]
    }
   ],
   "source": [
    "# 计算n维球体积的函数\n",
    "def V_sphere(R=1, dim=3):\n",
    "    return (np.pi)**(dim/2)/gamma(dim/2+1)*R**dim\n",
    "\n",
    "# 5维球的体积\n",
    "print(V_sphere(1, 5))"
   ]
  },
  {
   "cell_type": "markdown",
   "id": "bde9feaf",
   "metadata": {},
   "source": [
    "平均值法  "
   ]
  },
  {
   "cell_type": "code",
   "execution_count": 5,
   "id": "05ba31c1",
   "metadata": {},
   "outputs": [
    {
     "name": "stdout",
     "output_type": "stream",
     "text": [
      "5.25344\n"
     ]
    }
   ],
   "source": [
    "dim = 5\n",
    "N = 10**5\n",
    "\n",
    "xi_array = rng.random((N, dim))\n",
    "\n",
    "n = 0\n",
    "\n",
    "for xi_vec in xi_array:\n",
    "    if np.linalg.norm(xi_vec) <= 1:\n",
    "        n += 1\n",
    "\n",
    "print(n/N*2**dim)\n",
    "\n"
   ]
  },
  {
   "cell_type": "markdown",
   "id": "cacee57f",
   "metadata": {},
   "source": [
    "这个积分也可以用投点法估算，过程如下：  \n",
    "产生一组$\\boldsymbol{\\xi}=(\\xi_1,\\xi_2,\\cdots,\\xi_n)$，并计算函数值$f(\\boldsymbol{\\xi})$，再产生一个$\\xi_{n+1}$，比较$f(\\boldsymbol{\\xi})$和$\\xi_{n+1}$的大小  \n",
    "重复多次，取$f(\\boldsymbol{\\xi})\\geq\\xi_{n+1}$的点数和总点数的比值为积分的估计值  \n",
    "由于函数值$f(\\boldsymbol{\\xi})$只能是0或1，$f(\\boldsymbol{\\xi})\\geq\\xi_{n+1}$是否成立与$\\xi_{n+1}$的大小无关  \n",
    "所以可以不用产生$\\xi_{n+1}$，从而实际操作和平均值法完全相同。"
   ]
  }
 ],
 "metadata": {
  "kernelspec": {
   "display_name": "Python 3 (ipykernel)",
   "language": "python",
   "name": "python3"
  },
  "language_info": {
   "codemirror_mode": {
    "name": "ipython",
    "version": 3
   },
   "file_extension": ".py",
   "mimetype": "text/x-python",
   "name": "python",
   "nbconvert_exporter": "python",
   "pygments_lexer": "ipython3",
   "version": "3.9.12"
  }
 },
 "nbformat": 4,
 "nbformat_minor": 5
}
