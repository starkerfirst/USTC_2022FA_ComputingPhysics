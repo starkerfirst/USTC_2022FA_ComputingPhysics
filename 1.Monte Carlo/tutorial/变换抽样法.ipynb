{
 "cells": [
  {
   "cell_type": "code",
   "execution_count": 1,
   "id": "7f8ec496",
   "metadata": {},
   "outputs": [],
   "source": [
    "import time\n",
    "import numpy as np\n",
    "from numpy.random import default_rng\n",
    "import matplotlib.pyplot as plt\n",
    "\n",
    "rng = default_rng()"
   ]
  },
  {
   "cell_type": "markdown",
   "id": "319a89fd",
   "metadata": {},
   "source": [
    "期望和方差不同的正态分布可以通过对服从标准正态分布的随机变量$\\delta$做变换$\\eta=\\sigma\\delta+\\mu$得到，因此对正态分布进行抽样时只需得到标准正态分布即可  \n",
    "标准正态分布的密度函数为  \n",
    "$$f(x)=\\frac{1}{\\sqrt{2\\pi}}\\exp{\\left(-\\frac{x^2}{2}\\right)}$$  \n",
    "不能用函数解析积分求出分布函数$F(x)$，因而不能使用直接抽样法  \n",
    "对这类函数积分时，一种常用的技巧是考虑二维的情形，考虑两个独立标准正态分布的联合分布  \n",
    "$$f(x,y)=f(x)\\cdot f(y)=\\frac{1}{2\\pi}\\exp{\\left(-\\frac{x^2+y^2}{2}\\right)}$$\n",
    "变换为极坐标  \n",
    "$$f(x,y)dxdy=f(r,\\theta)rdrd\\theta=\\frac{1}{2\\pi}r\\exp{\\left(-\\frac{r^2}{2}\\right)}drd\\theta$$  \n",
    "分开写成两部分  \n",
    "$$f(r)=r\\exp{\\left(-\\frac{r^2}{2}\\right)}$$\n",
    "$$f(\\theta)=\\frac{1}{2\\pi}$$\n",
    "通过反函数法可以得到r的分布，通过简单的变换可以得到$\\theta$的分布  \n",
    "$$r=\\sqrt{-2\\ln{u}}, \\theta=2\\pi v$$  \n",
    "其中u和v是独立的[0,1]范围内均匀分布的随机变量  \n",
    "变换回直角坐标\n",
    "$$x=\\sqrt{-2\\ln{u}}\\cos{2\\pi v}$$  \n",
    "$$y=\\sqrt{-2\\ln{u}}\\sin{2\\pi v}$$  \n",
    "得到的(x,y)是服从二维标准正态分布的随机变量，由于x和y是相互独立的，x和y都服从标准正态分布  \n",
    "根据上面的两个公式，我们可以用以下方法对标准正态分布进行抽样"
   ]
  },
  {
   "cell_type": "code",
   "execution_count": 2,
   "id": "2acb1fb4",
   "metadata": {},
   "outputs": [],
   "source": [
    "def gauss_sample_1(mu, sigma):\n",
    "    u, v = rng.uniform(0, 1, 2)\n",
    "    return np.sqrt(-2*np.log(u))*np.cos(2*np.pi*v)*sigma + mu"
   ]
  },
  {
   "cell_type": "code",
   "execution_count": 3,
   "id": "46205f7d",
   "metadata": {},
   "outputs": [],
   "source": [
    "#start = time.time()\n",
    "X = [gauss_sample_1(2, 3) for _ in range(10000)]\n",
    "#print(f\"Time: {time.time() - start} s\")"
   ]
  },
  {
   "cell_type": "code",
   "execution_count": 4,
   "id": "67f0e169",
   "metadata": {},
   "outputs": [
    {
     "data": {
      "image/png": "[encoded data removed]",
      "text/plain": [
       "<Figure size 432x288 with 1 Axes>"
      ]
     },
     "metadata": {
      "needs_background": "light"
     },
     "output_type": "display_data"
    }
   ],
   "source": [
    "plt.hist(X, range=(-8,12), bins=11)\n",
    "plt.show()"
   ]
  },
  {
   "cell_type": "markdown",
   "id": "6ce0e890",
   "metadata": {},
   "source": [
    "以上方法中需要进行正弦和余弦运算，这些运算是可以避免的  \n",
    "产生[-1,1]范围内均匀分布的随机变量(a,b)，并去除单位圆外的部分，就得到了单位圆内均匀分布的随机变量  \n",
    "余弦和正弦可以表示为  \n",
    "$$\\cos{\\theta}=\\frac{a}{\\sqrt{a^2+b^2}}$$\n",
    "$$\\sin{\\theta}=\\frac{b}{\\sqrt{a^2+b^2}}$$\n",
    "可以验证这样产生的$\\theta$是均匀分布的  \n",
    "在公式中，除去正弦和余弦，还需要一个均匀分布的随机变量，即式中的u\n",
    "$$x=\\sqrt{-2\\ln{u}}\\cos{2\\pi v}$$  \n",
    "$$y=\\sqrt{-2\\ln{u}}\\sin{2\\pi v}$$  \n",
    "$(a^2+b^2)$正好是[0,1]范围内均匀分布的随机变量，并且其与$\\theta$是相互独立的，因此不必再另外产生一个随机数  \n",
    "将(a,b)代入并整理，得到  \n",
    "$$x=a\\sqrt{-2\\ln{(w)}/w}$$  \n",
    "$$y=b\\sqrt{-2\\ln{(w)}/w}$$  \n",
    "其中$w=a^2+b^2$"
   ]
  },
  {
   "cell_type": "code",
   "execution_count": 5,
   "id": "58709531",
   "metadata": {},
   "outputs": [],
   "source": [
    "def gauss_sample_2(mu, sigma):\n",
    "    u, v = rng.uniform(-1, 1, 2)\n",
    "    while (w := u**2 + v**2) > 1:\n",
    "        u, v = rng.uniform(-1, 1, 2)\n",
    "    return u*np.sqrt(-2*np.log(w)/w)*sigma + mu"
   ]
  },
  {
   "cell_type": "code",
   "execution_count": 6,
   "id": "9be2d61c",
   "metadata": {},
   "outputs": [],
   "source": [
    "#start = time.time()\n",
    "Y = [gauss_sample_2(2, 3) for _ in range(10000)]\n",
    "#print(f\"Time: {time.time() - start} s\")"
   ]
  },
  {
   "cell_type": "code",
   "execution_count": 7,
   "id": "c446b064",
   "metadata": {},
   "outputs": [
    {
     "data": {
      "image/png": "[encoded data removed]",
      "text/plain": [
       "<Figure size 432x288 with 1 Axes>"
      ]
     },
     "metadata": {
      "needs_background": "light"
     },
     "output_type": "display_data"
    }
   ],
   "source": [
    "plt.hist(Y, range=(-8,12), bins=11)\n",
    "plt.show()"
   ]
  }
 ],
 "metadata": {
  "kernelspec": {
   "display_name": "Python 3 (ipykernel)",
   "language": "python",
   "name": "python3"
  },
  "language_info": {
   "codemirror_mode": {
    "name": "ipython",
    "version": 3
   },
   "file_extension": ".py",
   "mimetype": "text/x-python",
   "name": "python",
   "nbconvert_exporter": "python",
   "pygments_lexer": "ipython3",
   "version": "3.9.12"
  }
 },
 "nbformat": 4,
 "nbformat_minor": 5
}
