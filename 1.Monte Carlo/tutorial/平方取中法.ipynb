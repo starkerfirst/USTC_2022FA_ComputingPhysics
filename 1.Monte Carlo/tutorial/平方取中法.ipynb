{
 "cells": [
  {
   "cell_type": "code",
   "execution_count": 1,
   "id": "ffc9c256",
   "metadata": {},
   "outputs": [
    {
     "name": "stdout",
     "output_type": "stream",
     "text": [
      "0.9432\t\t0.9626\t\t0.6598\t\t0.5336\t\t0.4728\t\t0.3539\t\t0.5245\t\t0.5100\t\t0.0100\t\t0.0100\t\t0.0100\t\t0.0100\t\t0.0100\t\t0.0100\t\t0.0100\t\t0.0100\t\t0.0100\t\t0.0100\t\t0.0100\t\t0.0100\t\t0.0100\t\t0.0100\t\t0.0100\t\t0.0100\t\t0.0100\t\t0.0100\t\t0.0100\t\t0.0100\t\t0.0100\t\t0.0100\t\t0.0100\t\t0.0100\t\t0.0100\t\t0.0100\t\t0.0100\t\t0.0100\t\t0.0100\t\t0.0100\t\t0.0100\t\t0.0100\t\t0.0100\t\t0.0100\t\t0.0100\t\t0.0100\t\t0.0100\t\t0.0100\t\t0.0100\t\t0.0100\t\t0.0100\t\t0.0100\t\t0.0100\t\t0.0100\t\t0.0100\t\t0.0100\t\t0.0100\t\t0.0100\t\t0.0100\t\t0.0100\t\t0.0100\t\t0.0100\t\t0.0100\t\t0.0100\t\t0.0100\t\t0.0100\t\t0.0100\t\t0.0100\t\t0.0100\t\t0.0100\t\t0.0100\t\t0.0100\t\t0.0100\t\t0.0100\t\t0.0100\t\t0.0100\t\t0.0100\t\t0.0100\t\t0.0100\t\t0.0100\t\t0.0100\t\t0.0100\t\t0.0100\t\t0.0100\t\t0.0100\t\t0.0100\t\t0.0100\t\t0.0100\t\t0.0100\t\t0.0100\t\t0.0100\t\t0.0100\t\t0.0100\t\t0.0100\t\t0.0100\t\t0.0100\t\t0.0100\t\t0.0100\t\t0.0100\t\t0.0100\t\t0.0100\t\t0.0100\t\t0.0100\t\t0.0100\t\t0.0100\t\t0.0100\t\t0.0100\t\t0.0100\t\t0.0100\t\t0.0100\t\t0.0100\t\t0.0100\t\t0.0100\t\t0.0100\t\t0.0100\t\t0.0100\t\t0.0100\t\t0.0100\t\t0.0100\t\t0.0100\t\t0.0100\t\t0.0100\t\t0.0100\t\t0.0100\t\t0.0100\t\t0.0100\t\t0.0100\t\t0.0100\t\t0.0100\t\t0.0100\t\t0.0100\t\t0.0100\t\t0.0100\t\t0.0100\t\t0.0100\t\t0.0100\t\t0.0100\t\t0.0100\t\t0.0100\t\t0.0100\t\t0.0100\t\t0.0100\t\t0.0100\t\t0.0100\t\t0.0100\t\t0.0100\t\t0.0100\t\t0.0100\t\t0.0100\t\t0.0100\t\t0.0100\t\t0.0100\t\t0.0100\t\t0.0100\t\t0.0100\t\t0.0100\t\t0.0100\t\t0.0100\t\t0.0100\t\t0.0100\t\t0.0100\t\t0.0100\t\t0.0100\t\t0.0100\t\t0.0100\t\t0.0100\t\t0.0100\t\t0.0100\t\t0.0100\t\t0.0100\t\t0.0100\t\t0.0100\t\t0.0100\t\t0.0100\t\t0.0100\t\t0.0100\t\t0.0100\t\t0.0100\t\t0.0100\t\t0.0100\t\t0.0100\t\t0.0100\t\t0.0100\t\t0.0100\t\t0.0100\t\t0.0100\t\t0.0100\t\t0.0100\t\t0.0100\t\t0.0100\t\t0.0100\t\t0.0100\t\t0.0100\t\t0.0100\t\t0.0100\t\t0.0100\t\t0.0100\t\t0.0100\t\t0.0100\t\t0.0100\t\t0.0100\t\t0.0100\t\t0.0100\t\t0.0100\t\t0.0100\t\t0.0100\t\t0.0100\t\t0.0100\t\t0.0100\t\t0.0100\t\t0.0100\t\t0.0100\t\t0.0100\t\t0.0100\t\t0.0100\t\t0.0100\t\t0.0100\t\t0.0100\t\t0.0100\t\t0.0100\t\t0.0100\t\t0.0100\t\t0.0100\t\t0.0100\t\t0.0100\t\t0.0100\t\t0.0100\t\t0.0100\t\t0.0100\t\t0.0100\t\t0.0100\t\t0.0100\t\t0.0100\t\t0.0100\t\t0.0100\t\t0.0100\t\t0.0100\t\t0.0100\t\t0.0100\t\t0.0100\t\t0.0100\t\t0.0100\t\t0.0100\t\t0.0100\t\t0.0100\t\t0.0100\t\t0.0100\t\t0.0100\t\t0.0100\t\t0.0100\t\t0.0100\t\t0.0100\t\t0.0100\t\t0.0100\t\t0.0100\t\t0.0100\t\t0.0100\t\t0.0100\t\t0.0100\t\t0.0100\t\t0.0100\t\t0.0100\t\t0.0100\t\t0.0100\t\t0.0100\t\t0.0100\t\t0.0100\t\t0.0100\t\t0.0100\t\t0.0100\t\t0.0100\t\t0.0100\t\t0.0100\t\t0.0100\t\t0.0100\t\t0.0100\t\t0.0100\t\t0.0100\t\t0.0100\t\t0.0100\t\t0.0100\t\t0.0100\t\t0.0100\t\t0.0100\t\t0.0100\t\t0.0100\t\t0.0100\t\t0.0100\t\t0.0100\t\t0.0100\t\t0.0100\t\t0.0100\t\t0.0100\t\t0.0100\t\t0.0100\t\t0.0100\t\t0.0100\t\t0.0100\t\t0.0100\t\t0.0100\t\t0.0100\t\t0.0100\t\t0.0100\t\t0.0100\t\t0.0100\t\t0.0100\t\t0.0100\t\t0.0100\t\t0.0100\t\t0.0100\t\t0.0100\t\t0.0100\t\t0.0100\t\t0.0100\t\t0.0100\t\t0.0100\t\t0.0100\t\t0.0100\t\t0.0100\t\t0.0100\t\t0.0100\t\t0.0100\t\t0.0100\t\t0.0100\t\t0.0100\t\t0.0100\t\t0.0100\t\t0.0100\t\t0.0100\t\t0.0100\t\t0.0100\t\t0.0100\t\t0.0100\t\t0.0100\t\t0.0100\t\t0.0100\t\t0.0100\t\t0.0100\t\t0.0100\t\t0.0100\t\t0.0100\t\t0.0100\t\t0.0100\t\t0.0100\t\t0.0100\t\t0.0100\t\t0.0100\t\t0.0100\t\t0.0100\t\t0.0100\t\t0.0100\t\t0.0100\t\t0.0100\t\t0.0100\t\t0.0100\t\t0.0100\t\t0.0100\t\t0.0100\t\t0.0100\t\t0.0100\t\t0.0100\t\t0.0100\t\t0.0100\t\t0.0100\t\t0.0100\t\t0.0100\t\t0.0100\t\t0.0100\t\t0.0100\t\t0.0100\t\t0.0100\t\t0.0100\t\t0.0100\t\t0.0100\t\t0.0100\t\t0.0100\t\t0.0100\t\t0.0100\t\t0.0100\t\t0.0100\t\t0.0100\t\t0.0100\t\t0.0100\t\t0.0100\t\t0.0100\t\t0.0100\t\t0.0100\t\t0.0100\t\t0.0100\t\t0.0100\t\t0.0100\t\t0.0100\t\t0.0100\t\t0.0100\t\t0.0100\t\t0.0100\t\t0.0100\t\t0.0100\t\t0.0100\t\t0.0100\t\t0.0100\t\t0.0100\t\t0.0100\t\t0.0100\t\t0.0100\t\t0.0100\t\t0.0100\t\t0.0100\t\t0.0100\t\t0.0100\t\t0.0100\t\t0.0100\t\t0.0100\t\t0.0100\t\t0.0100\t\t0.0100\t\t0.0100\t\t0.0100\t\t0.0100\t\t0.0100\t\t0.0100\t\t0.0100\t\t0.0100\t\t0.0100\t\t0.0100\t\t0.0100\t\t0.0100\t\t0.0100\t\t0.0100\t\t0.0100\t\t0.0100\t\t0.0100\t\t0.0100\t\t0.0100\t\t0.0100\t\t0.0100\t\t0.0100\t\t0.0100\t\t0.0100\t\t0.0100\t\t0.0100\t\t0.0100\t\t0.0100\t\t0.0100\t\t0.0100\t\t0.0100\t\t0.0100\t\t0.0100\t\t0.0100\t\t0.0100\t\t0.0100\t\t0.0100\t\t0.0100\t\t0.0100\t\t0.0100\t\t0.0100\t\t0.0100\t\t0.0100\t\t0.0100\t\t0.0100\t\t0.0100\t\t0.0100\t\t0.0100\t\t0.0100\t\t0.0100\t\t0.0100\t\t0.0100\t\t0.0100\t\t0.0100\t\t0.0100\t\t0.0100\t\t0.0100\t\t0.0100\t\t0.0100\t\t0.0100\t\t0.0100\t\t0.0100\t\t0.0100\t\t0.0100\t\t0.0100\t\t0.0100\t\t0.0100\t\t0.0100\t\t0.0100\t\t0.0100\t\t0.0100\t\t0.0100\t\t0.0100\t\t0.0100\t\t0.0100\t\t0.0100\t\t0.0100\t\t0.0100\t\t0.0100\t\t0.0100\t\t0.0100\t\t0.0100\t\t0.0100\t\t0.0100\t\t0.0100\t\t0.0100\t\t0.0100\t\t0.0100\t\t0.0100\t\t0.0100\t\t0.0100\t\t0.0100\t\t0.0100\t\t0.0100\t\t0.0100\t\t0.0100\t\t0.0100\t\t0.0100\t\t0.0100\t\t0.0100\t\t0.0100\t\t0.0100\t\t0.0100\t\t0.0100\t\t0.0100\t\t0.0100\t\t0.0100\t\t0.0100\t\t0.0100\t\t0.0100\t\t0.0100\t\t0.0100\t\t0.0100\t\t0.0100\t\t0.0100\t\t0.0100\t\t0.0100\t\t0.0100\t\t0.0100\t\t0.0100\t\t0.0100\t\t0.0100\t\t0.0100\t\t0.0100\t\t0.0100\t\t0.0100\t\t0.0100\t\t0.0100\t\t0.0100\t\t0.0100\t\t0.0100\t\t0.0100\t\t0.0100\t\t0.0100\t\t0.0100\t\t0.0100\t\t0.0100\t\t0.0100\t\t0.0100\t\t0.0100\t\t0.0100\t\t0.0100\t\t0.0100\t\t0.0100\t\t0.0100\t\t0.0100\t\t0.0100\t\t0.0100\t\t0.0100\t\t0.0100\t\t0.0100\t\t0.0100\t\t0.0100\t\t0.0100\t\t0.0100\t\t0.0100\t\t0.0100\t\t0.0100\t\t0.0100\t\t0.0100\t\t0.0100\t\t0.0100\t\t0.0100\t\t0.0100\t\t0.0100\t\t0.0100\t\t0.0100\t\t0.0100\t\t0.0100\t\t0.0100\t\t0.0100\t\t0.0100\t\t0.0100\t\t0.0100\t\t0.0100\t\t0.0100\t\t0.0100\t\t0.0100\t\t0.0100\t\t0.0100\t\t0.0100\t\t0.0100\t\t0.0100\t\t0.0100\t\t0.0100\t\t0.0100\t\t0.0100\t\t0.0100\t\t0.0100\t\t0.0100\t\t0.0100\t\t0.0100\t\t0.0100\t\t0.0100\t\t0.0100\t\t0.0100\t\t0.0100\t\t0.0100\t\t0.0100\t\t0.0100\t\t0.0100\t\t0.0100\t\t0.0100\t\t0.0100\t\t0.0100\t\t0.0100\t\t0.0100\t\t0.0100\t\t0.0100\t\t0.0100\t\t0.0100\t\t0.0100\t\t0.0100\t\t0.0100\t\t0.0100\t\t0.0100\t\t0.0100\t\t0.0100\t\t0.0100\t\t0.0100\t\t0.0100\t\t0.0100\t\t0.0100\t\t0.0100\t\t0.0100\t\t0.0100\t\t0.0100\t\t0.0100\t\t0.0100\t\t0.0100\t\t0.0100\t\t0.0100\t\t0.0100\t\t0.0100\t\t0.0100\t\t0.0100\t\t0.0100\t\t0.0100\t\t0.0100\t\t0.0100\t\t0.0100\t\t0.0100\t\t0.0100\t\t0.0100\t\t0.0100\t\t0.0100\t\t0.0100\t\t0.0100\t\t0.0100\t\t0.0100\t\t0.0100\t\t0.0100\t\t0.0100\t\t0.0100\t\t0.0100\t\t0.0100\t\t0.0100\t\t0.0100\t\t0.0100\t\t0.0100\t\t0.0100\t\t0.0100\t\t0.0100\t\t0.0100\t\t0.0100\t\t0.0100\t\t0.0100\t\t0.0100\t\t0.0100\t\t0.0100\t\t0.0100\t\t0.0100\t\t0.0100\t\t0.0100\t\t0.0100\t\t0.0100\t\t0.0100\t\t0.0100\t\t0.0100\t\t0.0100\t\t0.0100\t\t0.0100\t\t0.0100\t\t0.0100\t\t0.0100\t\t0.0100\t\t0.0100\t\t0.0100\t\t0.0100\t\t0.0100\t\t0.0100\t\t0.0100\t\t0.0100\t\t0.0100\t\t0.0100\t\t0.0100\t\t0.0100\t\t0.0100\t\t0.0100\t\t0.0100\t\t0.0100\t\t0.0100\t\t0.0100\t\t0.0100\t\t0.0100\t\t0.0100\t\t0.0100\t\t0.0100\t\t0.0100\t\t0.0100\t\t0.0100\t\t0.0100\t\t0.0100\t\t0.0100\t\t0.0100\t\t0.0100\t\t0.0100\t\t0.0100\t\t0.0100\t\t0.0100\t\t0.0100\t\t0.0100\t\t0.0100\t\t0.0100\t\t0.0100\t\t0.0100\t\t0.0100\t\t0.0100\t\t0.0100\t\t0.0100\t\t0.0100\t\t0.0100\t\t0.0100\t\t0.0100\t\t0.0100\t\t0.0100\t\t0.0100\t\t0.0100\t\t0.0100\t\t0.0100\t\t0.0100\t\t0.0100\t\t0.0100\t\t0.0100\t\t0.0100\t\t0.0100\t\t0.0100\t\t0.0100\t\t0.0100\t\t0.0100\t\t0.0100\t\t0.0100\t\t0.0100\t\t0.0100\t\t0.0100\t\t0.0100\t\t0.0100\t\t0.0100\t\t0.0100\t\t0.0100\t\t0.0100\t\t0.0100\t\t0.0100\t\t0.0100\t\t0.0100\t\t0.0100\t\t0.0100\t\t0.0100\t\t0.0100\t\t0.0100\t\t0.0100\t\t0.0100\t\t0.0100\t\t0.0100\t\t0.0100\t\t0.0100\t\t0.0100\t\t0.0100\t\t0.0100\t\t0.0100\t\t0.0100\t\t0.0100\t\t0.0100\t\t0.0100\t\t0.0100\t\t0.0100\t\t0.0100\t\t0.0100\t\t0.0100\t\t0.0100\t\t0.0100\t\t0.0100\t\t0.0100\t\t0.0100\t\t0.0100\t\t0.0100\t\t0.0100\t\t0.0100\t\t0.0100\t\t0.0100\t\t0.0100\t\t0.0100\t\t0.0100\t\t0.0100\t\t0.0100\t\t0.0100\t\t0.0100\t\t0.0100\t\t0.0100\t\t0.0100\t\t0.0100\t\t0.0100\t\t0.0100\t\t0.0100\t\t0.0100\t\t0.0100\t\t0.0100\t\t0.0100\t\t0.0100\t\t0.0100\t\t0.0100\t\t0.0100\t\t0.0100\t\t0.0100\t\t0.0100\t\t0.0100\t\t0.0100\t\t0.0100\t\t0.0100\t\t0.0100\t\t0.0100\t\t0.0100\t\t0.0100\t\t0.0100\t\t0.0100\t\t0.0100\t\t0.0100\t\t0.0100\t\t0.0100\t\t0.0100\t\t0.0100\t\t0.0100\t\t0.0100\t\t0.0100\t\t0.0100\t\t0.0100\t\t0.0100\t\t0.0100\t\t0.0100\t\t0.0100\t\t0.0100\t\t0.0100\t\t0.0100\t\t0.0100\t\t0.0100\t\t0.0100\t\t0.0100\t\t0.0100\t\t0.0100\t\t0.0100\t\t0.0100\t\t0.0100\t\t0.0100\t\t0.0100\t\t0.0100\t\t0.0100\t\t0.0100\t\t0.0100\t\t0.0100\t\t0.0100\t\t0.0100\t\t0.0100\t\t0.0100\t\t0.0100\t\t0.0100\t\t0.0100\t\t0.0100\t\t0.0100\t\t0.0100\t\t0.0100\t\t0.0100\t\t0.0100\t\t0.0100\t\t0.0100\t\t0.0100\t\t0.0100\t\t0.0100\t\t0.0100\t\t0.0100\t\t0.0100\t\t0.0100\t\t0.0100\t\t0.0100\t\t0.0100\t\t0.0100\t\t0.0100\t\t0.0100\t\t0.0100\t\t0.0100\t\t0.0100\t\t0.0100\t\t0.0100\t\t0.0100\t\t0.0100\t\t0.0100\t\t0.0100\t\t0.0100\t\t0.0100\t\t0.0100\t\t0.0100\t\t0.0100\t\t0.0100\t\t0.0100\t\t0.0100\t\t0.0100\t\t0.0100\t\t0.0100\t\t0.0100\t\t0.0100\t\t0.0100\t\t0.0100\t\t0.0100\t\t0.0100\t\t0.0100\t\t0.0100\t\t0.0100\t\t0.0100\t\t0.0100\t\t0.0100\t\t0.0100\t\t0.0100\t\t0.0100\t\t0.0100\t\t0.0100\t\t0.0100\t\t0.0100\t\t0.0100\t\t0.0100\t\t0.0100\t\t0.0100\t\t0.0100\t\t0.0100\t\t0.0100\t\t0.0100\t\t0.0100\t\t0.0100\t\t0.0100\t\t0.0100\t\t0.0100\t\t0.0100\t\t0.0100\t\t0.0100\t\t0.0100\t\t0.0100\t\t0.0100\t\t0.0100\t\t0.0100\t\t0.0100\t\t0.0100\t\t0.0100\t\t0.0100\t\t0.0100\t\t0.0100\t\t0.0100\t\t0.0100\t\t0.0100\t\t0.0100\t\t0.0100\t\t0.0100\t\t0.0100\t\t0.0100\t\t0.0100\t\t0.0100\t\t0.0100\t\t0.0100\t\t0.0100\t\t0.0100\t\t0.0100\t\t0.0100\t\t0.0100\t\t0.0100\t\t0.0100\t\t0.0100\t\t0.0100\t\t0.0100\t\t0.0100\t\t0.0100\t\t0.0100\t\t"
     ]
    }
   ],
   "source": [
    "import datetime\n",
    "\n",
    "#创建一个列表来存储随机数\n",
    "randomlist = []\n",
    " \n",
    "#设置一个数字的随机数作为种子\n",
    "#seed = 6406\n",
    "\n",
    "#以randomlist的id后4位为随机数种子\n",
    "#seed = id(randomlist) % 10000\n",
    "\n",
    "#以系统时间毫秒数的后4位为随机数种子\n",
    "seed = datetime.datetime.now().microsecond % 10000\n",
    "\n",
    "while(len(randomlist) <= 1000):\n",
    "    \n",
    "    #计算随机数的平方\n",
    "    seedsquare = seed ** 2\n",
    "    \n",
    "    #获取随机数平方的长度,如果长度不是8，前面用0补齐\n",
    "    seedsquare_str = str(seedsquare)\n",
    "    if len(seedsquare_str) != 8:\n",
    "        seedsquare_str = seedsquare_str.rjust(8,'0')\n",
    "        \n",
    "    #获取该随机数平方的中间四位\n",
    "    seedsquare_4 = seedsquare_str[2:6]\n",
    "    \n",
    "    #将取出的随机数平方的中间四位作为随机数加入随机数列表\n",
    "    randomlist.append('0.' + seedsquare_4)\n",
    "    \n",
    "    #将取出的随机数平方的中间四位作为新的种子\n",
    "    seed = int(seedsquare_4)\n",
    "\n",
    "    \n",
    "for randint in randomlist:\n",
    "    print(randint,end='\\t\\t')"
   ]
  },
  {
   "cell_type": "markdown",
   "id": "cf11c688",
   "metadata": {},
   "source": [
    "下面介绍一些上面的代码涉及到的Python语法"
   ]
  },
  {
   "cell_type": "markdown",
   "id": "07038032",
   "metadata": {},
   "source": [
    "Python中使用变量无需提前声明，直接用赋值语句即可创建一个对象，例如第7行"
   ]
  },
  {
   "cell_type": "code",
   "execution_count": 2,
   "id": "96adcf21",
   "metadata": {},
   "outputs": [],
   "source": [
    "seed = 6406"
   ]
  },
  {
   "cell_type": "markdown",
   "id": "b193bfef",
   "metadata": {},
   "source": [
    "创建的对象类型会根据赋值语句的内容自动选择"
   ]
  },
  {
   "cell_type": "code",
   "execution_count": 3,
   "id": "8989801a",
   "metadata": {},
   "outputs": [
    {
     "data": {
      "text/plain": [
       "int"
      ]
     },
     "execution_count": 3,
     "metadata": {},
     "output_type": "execute_result"
    }
   ],
   "source": [
    "a = 1\n",
    "type(a)"
   ]
  },
  {
   "cell_type": "code",
   "execution_count": 4,
   "id": "fecc2d09",
   "metadata": {},
   "outputs": [
    {
     "data": {
      "text/plain": [
       "float"
      ]
     },
     "execution_count": 4,
     "metadata": {},
     "output_type": "execute_result"
    }
   ],
   "source": [
    "a = 0.5\n",
    "type(a)"
   ]
  },
  {
   "cell_type": "code",
   "execution_count": 5,
   "id": "34aedae9",
   "metadata": {},
   "outputs": [
    {
     "data": {
      "text/plain": [
       "list"
      ]
     },
     "execution_count": 5,
     "metadata": {},
     "output_type": "execute_result"
    }
   ],
   "source": [
    "a = []\n",
    "type(a)"
   ]
  },
  {
   "cell_type": "code",
   "execution_count": 6,
   "id": "2eef9105",
   "metadata": {},
   "outputs": [
    {
     "data": {
      "text/plain": [
       "tuple"
      ]
     },
     "execution_count": 6,
     "metadata": {},
     "output_type": "execute_result"
    }
   ],
   "source": [
    "a = ()\n",
    "type(a)"
   ]
  },
  {
   "cell_type": "code",
   "execution_count": 7,
   "id": "678d01f3",
   "metadata": {},
   "outputs": [
    {
     "data": {
      "text/plain": [
       "str"
      ]
     },
     "execution_count": 7,
     "metadata": {},
     "output_type": "execute_result"
    }
   ],
   "source": [
    "a = ''\n",
    "type(a)"
   ]
  },
  {
   "cell_type": "markdown",
   "id": "d586ae8c",
   "metadata": {},
   "source": [
    "前面创建的5种对象中，后3个可以包含其他的对象，类似于C语言中的数组  \n",
    "用方括号框住的是列表**list**，用圆括号框住的是元组**tuple**，用引号框住的是字符串**str**"
   ]
  },
  {
   "cell_type": "markdown",
   "id": "b007a776",
   "metadata": {},
   "source": [
    "列表中的对象可以用索引来访问"
   ]
  },
  {
   "cell_type": "code",
   "execution_count": 8,
   "id": "ae5672bf",
   "metadata": {},
   "outputs": [
    {
     "name": "stdout",
     "output_type": "stream",
     "text": [
      "3\n"
     ]
    }
   ],
   "source": [
    "a = [1, 2, 3, 4]\n",
    "print(a[2])"
   ]
  },
  {
   "cell_type": "markdown",
   "id": "b0b340ea",
   "metadata": {},
   "source": [
    "列表的索引从0开始，所以a[2]是列表a的第3个对象  \n",
    "索引也可以是负数，a[-1]是最后1个"
   ]
  },
  {
   "cell_type": "code",
   "execution_count": 9,
   "id": "9cd50467",
   "metadata": {},
   "outputs": [
    {
     "name": "stdout",
     "output_type": "stream",
     "text": [
      "4\n"
     ]
    }
   ],
   "source": [
    "print(a[-1])"
   ]
  },
  {
   "cell_type": "markdown",
   "id": "b3994a59",
   "metadata": {},
   "source": [
    "在索引中使用冒号可以选取多个对象，从冒号左边的索引开始，直到冒号右边的索引的前一个为止  \n",
    "冒号两边的数字可以略去，表示从头开始或者到末尾结束"
   ]
  },
  {
   "cell_type": "code",
   "execution_count": 10,
   "id": "a0b26a91",
   "metadata": {},
   "outputs": [
    {
     "name": "stdout",
     "output_type": "stream",
     "text": [
      "[2, 3]\n",
      "[3, 4]\n",
      "[1, 2]\n"
     ]
    }
   ],
   "source": [
    "print(a[1:3])\n",
    "print(a[2:])\n",
    "print(a[:-2])"
   ]
  },
  {
   "cell_type": "markdown",
   "id": "3daa92bf",
   "metadata": {},
   "source": [
    "列表可以做加法，表示合并两个列表"
   ]
  },
  {
   "cell_type": "code",
   "execution_count": 11,
   "id": "9282f57d",
   "metadata": {},
   "outputs": [
    {
     "data": {
      "text/plain": [
       "[1, 2, 3, 'a', 'b']"
      ]
     },
     "execution_count": 11,
     "metadata": {},
     "output_type": "execute_result"
    }
   ],
   "source": [
    "a = [1, 2, 3]\n",
    "b = ['a', 'b']\n",
    "a + b"
   ]
  },
  {
   "cell_type": "markdown",
   "id": "00927432",
   "metadata": {},
   "source": [
    "字符串和元组也有类似的操作  \n",
    "代码的第26行中用索引截取了字符串的一部分，29行用加法合并了2个字符串"
   ]
  },
  {
   "cell_type": "markdown",
   "id": "16ed899e",
   "metadata": {},
   "source": [
    "使用append方法可以在列表中添加对象,代码的第29行使用了这种用法"
   ]
  },
  {
   "cell_type": "code",
   "execution_count": 12,
   "id": "ec425d8f",
   "metadata": {},
   "outputs": [
    {
     "name": "stdout",
     "output_type": "stream",
     "text": [
      "[1, 2, 'abc']\n"
     ]
    }
   ],
   "source": [
    "a = [1, 2]\n",
    "a.append('abc')\n",
    "print(a)"
   ]
  },
  {
   "cell_type": "markdown",
   "id": "c87d3b92",
   "metadata": {},
   "source": [
    "使用len方法可以得到容器对象的长度"
   ]
  },
  {
   "cell_type": "code",
   "execution_count": 13,
   "id": "5fc183b8",
   "metadata": {},
   "outputs": [
    {
     "name": "stdout",
     "output_type": "stream",
     "text": [
      "3\n",
      "4\n",
      "5\n"
     ]
    }
   ],
   "source": [
    "a = [1, 2, 3]\n",
    "print(len(a))\n",
    "a = (2, 3, 5, 1)\n",
    "print(len(a))\n",
    "a = 'abcde'\n",
    "print(len(a))"
   ]
  },
  {
   "cell_type": "markdown",
   "id": "092c7e3c",
   "metadata": {},
   "source": [
    "Python中if和while结构与C语言中的相似"
   ]
  },
  {
   "cell_type": "code",
   "execution_count": 14,
   "id": "5f8d0357",
   "metadata": {},
   "outputs": [
    {
     "name": "stdout",
     "output_type": "stream",
     "text": [
      "1<x<10\n"
     ]
    }
   ],
   "source": [
    "x = 5\n",
    "if x < 1:\n",
    "    print('x<1')\n",
    "elif x < 10:\n",
    "    print('1<x<10')\n",
    "else:\n",
    "    print('x>10')"
   ]
  },
  {
   "cell_type": "code",
   "execution_count": 15,
   "id": "6ea6b7b8",
   "metadata": {},
   "outputs": [
    {
     "name": "stdout",
     "output_type": "stream",
     "text": [
      "10\n"
     ]
    }
   ],
   "source": [
    "i = 0\n",
    "while i < 10:\n",
    "    i += 1\n",
    "print(i)"
   ]
  },
  {
   "cell_type": "markdown",
   "id": "6e1b87c3",
   "metadata": {},
   "source": [
    "for循环需要一个可遍历的对象"
   ]
  },
  {
   "cell_type": "code",
   "execution_count": 16,
   "id": "0d8361b0",
   "metadata": {},
   "outputs": [
    {
     "name": "stdout",
     "output_type": "stream",
     "text": [
      "0\n",
      "1\n",
      "2\n",
      "3\n",
      "4\n"
     ]
    }
   ],
   "source": [
    "for i in range(5):\n",
    "    print(i)"
   ]
  },
  {
   "cell_type": "markdown",
   "id": "9a0aa2fe",
   "metadata": {},
   "source": [
    "for循环把可遍历对象range(5)中的每一个对象依次赋值给i，并执行循环结构中的语句"
   ]
  },
  {
   "cell_type": "markdown",
   "id": "5aa5c64c",
   "metadata": {},
   "source": [
    "Python通过缩进表示循环和判断等结构  \n",
    "结构中的语句需要对齐并比for,while,if等关键字所在行多缩进数格"
   ]
  }
 ],
 "metadata": {
  "kernelspec": {
   "display_name": "Python 3 (ipykernel)",
   "language": "python",
   "name": "python3"
  },
  "language_info": {
   "codemirror_mode": {
    "name": "ipython",
    "version": 3
   },
   "file_extension": ".py",
   "mimetype": "text/x-python",
   "name": "python",
   "nbconvert_exporter": "python",
   "pygments_lexer": "ipython3",
   "version": "3.9.12"
  }
 },
 "nbformat": 4,
 "nbformat_minor": 5
}
