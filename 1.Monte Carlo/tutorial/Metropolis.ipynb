{
 "cells": [
  {
   "cell_type": "markdown",
   "id": "4c987823",
   "metadata": {},
   "source": [
    "在简单的一维随机游走的例子中，只需要设置1个概率值，这是因为模型规定每次只能向左或向右走给定的距离。  \n",
    "如果一个系统可以在$N$种状态之间相互演化，就需要设置$N^2$个概率值，以只有3种状态的系统为例，需要设置的概率值有  \n",
    "$$\\left[ \n",
    "    {\\begin{array}{cc}\n",
    "    q_{11} & q_{12} & q_{13} \\\\\n",
    "    q_{21} & q_{22} & q_{23} \\\\\n",
    "    q_{31} & q_{32} & q_{33} \\\\\n",
    "    \\end{array} }\n",
    "\\right]$$  \n",
    "下标表示从一种状态演化到另一种状态或者保持不变，这个矩阵称为转移概率矩阵。  \n",
    "如果演化前体系处于3种状态的概率分别为$p_1,p_2,p_3$，那么一次演化后的概率$p'_1,p'_2,p'_3$为  \n",
    "$$\\left\\{\n",
    "    {\\begin{array}{cc}\n",
    "    p'_1 = p_1\\times q_{11}+p_2\\times q_{21}+p_3\\times q_{31} \\\\\n",
    "    p'_2 = p_1\\times q_{12}+p_2\\times q_{22}+p_3\\times q_{32} \\\\\n",
    "    p'_3 = p_1\\times q_{13}+p_2\\times q_{23}+p_3\\times q_{33} \\\\\n",
    "    \\end{array} }\n",
    "\\right.$$  \n",
    "用矩阵表示就是  \n",
    "$$\\left[ \n",
    "    {\\begin{array}{cc}\n",
    "    p_1 & p_2 & p_3 \\\\\n",
    "    \\end{array} }\n",
    "\\right]\n",
    "\\left[ \n",
    "    {\\begin{array}{cc}\n",
    "    q_{11} & q_{12} & q_{13} \\\\\n",
    "    q_{21} & q_{22} & q_{23} \\\\\n",
    "    q_{31} & q_{32} & q_{33} \\\\\n",
    "    \\end{array} }\n",
    "\\right]\n",
    "=\n",
    "\\left[ \n",
    "    {\\begin{array}{cc}\n",
    "    p'_1 & p'_2 & p'_3 \\\\\n",
    "    \\end{array} }\n",
    "\\right]\n",
    "$$  \n",
    "简记为$\\boldsymbol{P(n)}\\boldsymbol{Q}=\\boldsymbol{P(n+1)}$  \n",
    "当系统演化一定的步数后，$\\boldsymbol{P(n)}=\\boldsymbol{P(0)}\\boldsymbol{Q^n}$  \n",
    "根据转移概率矩阵的性质，当$n$足够大时，$\\boldsymbol{Q^n}$会收敛到以下形式  \n",
    "$$\\boldsymbol{Q^n}\\rightarrow\n",
    "\\left[ \n",
    "    {\\begin{array}{cc}\n",
    "    \\pi_1 & \\pi_2 & \\pi_3 \\\\\n",
    "    \\pi_1 & \\pi_2 & \\pi_3 \\\\\n",
    "    \\pi_1 & \\pi_2 & \\pi_3 \\\\\n",
    "    \\end{array} }\n",
    "\\right]\n",
    "$$  \n",
    "因此，不论初始分布$\\boldsymbol{P(0)}$如何，最终分布都是$\\boldsymbol{P(n)}=\\boldsymbol{\\pi}=(\\pi_1,\\pi_2,\\pi_3)$，最终的分布可以由转移概率矩阵确定。  \n",
    "下面任意取一组转移概率来验证这一结论"
   ]
  },
  {
   "cell_type": "code",
   "execution_count": 1,
   "id": "08238721",
   "metadata": {
    "scrolled": false
   },
   "outputs": [
    {
     "name": "stdout",
     "output_type": "stream",
     "text": [
      "N_steps: 20\n",
      "[0.52914798 0.24663677 0.22421525]\n",
      "N_steps: 21\n",
      "[0.52914798 0.24663677 0.22421525]\n"
     ]
    }
   ],
   "source": [
    "import numpy as np\n",
    "from numpy.random import default_rng\n",
    "import matplotlib.pyplot as plt\n",
    "\n",
    "# 设置转移概率矩阵\n",
    "Q = np.array(\n",
    "    (\n",
    "        (0.5, 0.25, 0.25), \n",
    "        (0.8, 0.1, 0.1), \n",
    "        (0.3, 0.4, 0.3),\n",
    "    )\n",
    ")\n",
    "\n",
    "# 设置一个初始分布\n",
    "pi = np.array((1.0, 0.0, 0.0))\n",
    "\n",
    "# 设置演化步数\n",
    "N_steps = 20\n",
    "\n",
    "for _ in range(N_steps):\n",
    "    pi = pi.dot(Q)\n",
    "\n",
    "print(f\"N_steps: {N_steps}\")\n",
    "print(pi)\n",
    "print(f\"N_steps: {N_steps + 1}\")\n",
    "print(pi.dot(Q))"
   ]
  },
  {
   "cell_type": "markdown",
   "id": "8ddedf81",
   "metadata": {},
   "source": [
    "可以看到演化一定步数后，系统在各状态的分布不再变化"
   ]
  },
  {
   "cell_type": "code",
   "execution_count": 2,
   "id": "4e6b8ef3",
   "metadata": {},
   "outputs": [
    {
     "name": "stdout",
     "output_type": "stream",
     "text": [
      "[[0.52914798 0.24663677 0.22421525]\n",
      " [0.52914798 0.24663677 0.22421525]\n",
      " [0.52914798 0.24663677 0.22421525]]\n"
     ]
    }
   ],
   "source": [
    "Qn = np.array(Q)\n",
    "\n",
    "for _ in range(N_steps):\n",
    "    Qn = Qn.dot(Q)\n",
    "print(Qn)"
   ]
  },
  {
   "cell_type": "markdown",
   "id": "8ae9af5d",
   "metadata": {},
   "source": [
    "最终分布和$\\boldsymbol{Q^n}$的每一行一样"
   ]
  },
  {
   "cell_type": "markdown",
   "id": "443a1e14",
   "metadata": {},
   "source": [
    "换一个转移概率矩阵"
   ]
  },
  {
   "cell_type": "code",
   "execution_count": 3,
   "id": "5e56a6c9",
   "metadata": {},
   "outputs": [
    {
     "name": "stdout",
     "output_type": "stream",
     "text": [
      "N_steps: 20\n",
      "[0.27659574 0.29787234 0.42553191]\n",
      "N_steps: 21\n",
      "[0.27659574 0.29787234 0.42553191]\n"
     ]
    }
   ],
   "source": [
    "Q = np.array(\n",
    "    (\n",
    "        (0.2, 0.4, 0.4),\n",
    "        (0.6, 0.2, 0.2), \n",
    "        (0.1, 0.3, 0.6),\n",
    "    )\n",
    ")\n",
    "pi = np.array((1.0, 0.0, 0.0))\n",
    "N_steps = 20\n",
    "for _ in range(N_steps):\n",
    "    pi = pi.dot(Q)\n",
    "print(f\"N_steps: {N_steps}\")\n",
    "print(pi)\n",
    "print(f\"N_steps: {N_steps + 1}\")\n",
    "print(pi.dot(Q))"
   ]
  },
  {
   "cell_type": "markdown",
   "id": "dee4a4ed",
   "metadata": {},
   "source": [
    "换一个初始分布"
   ]
  },
  {
   "cell_type": "code",
   "execution_count": 4,
   "id": "81794d92",
   "metadata": {},
   "outputs": [
    {
     "name": "stdout",
     "output_type": "stream",
     "text": [
      "N_steps: 20\n",
      "[0.27659574 0.29787234 0.42553191]\n",
      "N_steps: 21\n",
      "[0.27659574 0.29787234 0.42553191]\n"
     ]
    }
   ],
   "source": [
    "pi = np.array((0.5, 0.5, 0.0))\n",
    "N_steps = 20\n",
    "for _ in range(N_steps):\n",
    "    pi = pi.dot(Q)\n",
    "print(f\"N_steps: {N_steps}\")\n",
    "print(pi)\n",
    "print(f\"N_steps: {N_steps + 1}\")\n",
    "print(pi.dot(Q))"
   ]
  },
  {
   "cell_type": "code",
   "execution_count": 5,
   "id": "b4f731d3",
   "metadata": {},
   "outputs": [
    {
     "name": "stdout",
     "output_type": "stream",
     "text": [
      "[[0.27659574 0.29787234 0.42553191]\n",
      " [0.27659574 0.29787234 0.42553191]\n",
      " [0.27659574 0.29787234 0.42553191]]\n"
     ]
    }
   ],
   "source": [
    "Qn = np.array(Q)\n",
    "\n",
    "for _ in range(N_steps):\n",
    "    Qn = Qn.dot(Q)\n",
    "print(Qn)"
   ]
  },
  {
   "cell_type": "markdown",
   "id": "9264851a",
   "metadata": {},
   "source": [
    "可见最终的分布只和转移概率矩阵有关。  \n",
    "把以上结论应用到随机游走中，只要构造合适的转移概率矩阵，就可以让随机游走的结果服从特定的分布。  \n",
    "但是如果转移概率矩阵很大，计算起来就非常困难，此时可以在形式上定义完整的转移概率矩阵，只计算需要用到的部分。  \n",
    "要想让随机游走在特定分布上保持平衡，只需要让此分布下任意两状态相互转化的概率相等即可，即\n",
    "$$f(x)w(x\\rightarrow x')=f(x')w(x'\\rightarrow x)$$  \n",
    "这个条件称为细致平衡条件，在Metropolis方法中一般构造以下形式的过渡概率  \n",
    "$$w(x\\rightarrow x')=\\min{\\left[1,\\frac{f(x')}{f(x)}\\right]}$$\n",
    "使用Metropolis方法对随机数进行抽样的流程如下：  \n",
    "假设游走到达了位置$x$，选取一个试探位置$x'$  \n",
    "计算$r=\\frac{f(x')}{f(x)}$，如果大于1，则$w(x\\rightarrow x')=1$，接受这一步试探  \n",
    "否则$w(x\\rightarrow x')=r$，产生一个随机数$\\xi$，如果$\\xi\\leq r$，接受这一步试探  \n",
    "否则拒绝这一步试探，停在原地，进行下一步试探  \n",
    "因为Metropolis方法中计算的是密度函数的比值，所以不用考虑归一化系数，因此可以用来对难以归一化的密度函数进行采样。  \n",
    "上述流程没有考虑抽样区域的边界，如果抽样的区域有边界就需要做特殊处理。  "
   ]
  },
  {
   "cell_type": "markdown",
   "id": "9fadc8df",
   "metadata": {},
   "source": [
    "用Metropolis方法对自由度为4的$\\chi^2$分布进行抽样。  \n",
    "$$f(x)=\\frac{1}{2^{n/2}\\Gamma(n/2)}x^{n/2-1}e^{-x/2},x>0,n=4$$\n",
    "在Metropolis方法中计算的是  \n",
    "$$\\frac{f(x')}{f(x)}=\\frac{x'}{x}\\exp{\\left(\\frac{x-x'}{2}\\right)}$$\n",
    "如果不考虑边界附近的情况  "
   ]
  },
  {
   "cell_type": "code",
   "execution_count": 6,
   "id": "59a7e3df",
   "metadata": {},
   "outputs": [],
   "source": [
    "rng = default_rng()\n",
    "\n",
    "def r_fx_fy(x, y):\n",
    "    return x/y*np.exp((y-x)/2)\n",
    "\n",
    "# 总步数\n",
    "N = 100000\n",
    "# 每一步的步长范围\n",
    "delta = 7\n",
    "\n",
    "# 起点\n",
    "x0 = 1e-5\n",
    "walk_path = [x0]\n",
    "for _ in range(N):\n",
    "    # 取一个试探位置\n",
    "    x_try = rng.uniform(x0-delta, x0+delta)\n",
    "    # 如果试探位置不在定义域内，则拒绝\n",
    "    if x_try <= 0:\n",
    "        continue\n",
    "    # 计算r，判断是否接受\n",
    "    r = r_fx_fy(x_try, x0)\n",
    "    if r > 1:\n",
    "        x0 = x_try\n",
    "        walk_path.append(x0)\n",
    "        continue\n",
    "    if r >= rng.random():\n",
    "        x0 = x_try\n",
    "        walk_path.append(x0)\n",
    "        continue\n",
    "    walk_path.append(x0)\n"
   ]
  },
  {
   "cell_type": "code",
   "execution_count": 7,
   "id": "f3bd5cf2",
   "metadata": {},
   "outputs": [
    {
     "data": {
      "image/png": "[encoded data removed]",
      "text/plain": [
       "<Figure size 500x500 with 1 Axes>"
      ]
     },
     "metadata": {
      "needs_background": "light"
     },
     "output_type": "display_data"
    }
   ],
   "source": [
    "# 理论密度曲线\n",
    "def chi2_2(x):\n",
    "    return x/4*np.exp(-x/2)\n",
    "\n",
    "x = np.linspace(0, 20, 201)\n",
    "y = chi2_2(x)\n",
    "\n",
    "plt.figure(figsize=(5, 5), dpi=100)\n",
    "plt.hist(walk_path, bins=21, range=(0.0, 20.0), density=True, color='yellow', label='Random variable X distribution')\n",
    "plt.plot(x, y, color='blue', label='Theoretical Distribution')\n",
    "plt.legend(loc='upper right')\n",
    "plt.show()"
   ]
  },
  {
   "cell_type": "markdown",
   "id": "805b7bb5",
   "metadata": {},
   "source": [
    "可以看到边界附近的偏差较大。"
   ]
  },
  {
   "cell_type": "markdown",
   "id": "4f771504",
   "metadata": {},
   "source": [
    "对于单边有界的情况，可以做对称处理，从而允许游走进入定义域外的区域  "
   ]
  },
  {
   "cell_type": "code",
   "execution_count": 8,
   "id": "76b87cb8",
   "metadata": {},
   "outputs": [
    {
     "name": "stdout",
     "output_type": "stream",
     "text": [
      "n_accept/N=0.4542\n"
     ]
    }
   ],
   "source": [
    "def r_fx_fy(x, y):\n",
    "    x = abs(x)\n",
    "    y = abs(y)\n",
    "    return x/y*np.exp((y-x)/2)\n",
    "\n",
    "# 总步数\n",
    "N = 100000\n",
    "# 每一步的步长范围\n",
    "delta = 15\n",
    "\n",
    "# 起点\n",
    "x0 = 1e-5\n",
    "walk_path = [x0]\n",
    "\n",
    "# 用于记录步数\n",
    "n_accept = 0\n",
    "\n",
    "for _ in range(N):\n",
    "    # 取一个试探位置\n",
    "    x_try = rng.uniform(x0-delta, x0+delta)\n",
    "    # 计算r，判断是否接受\n",
    "    r = r_fx_fy(x_try, x0)\n",
    "    if r > 1:\n",
    "        n_accept += 1\n",
    "        x0 = x_try\n",
    "        walk_path.append(abs(x0))\n",
    "        continue\n",
    "    if r >= rng.random():\n",
    "        n_accept += 1\n",
    "        x0 = x_try\n",
    "        walk_path.append(abs(x0))\n",
    "        continue\n",
    "    walk_path.append(abs(x0))\n",
    "\n",
    "print(f\"n_accept/N={n_accept/N:.4}\")"
   ]
  },
  {
   "cell_type": "code",
   "execution_count": 9,
   "id": "9b2f2501",
   "metadata": {
    "scrolled": false
   },
   "outputs": [
    {
     "data": {
      "image/png": "[encoded data removed]",
      "text/plain": [
       "<Figure size 500x500 with 1 Axes>"
      ]
     },
     "metadata": {
      "needs_background": "light"
     },
     "output_type": "display_data"
    }
   ],
   "source": [
    "x = np.linspace(0, 20, 121)\n",
    "y = chi2_2(x)\n",
    "\n",
    "plt.figure(figsize=(5, 5), dpi=100)\n",
    "plt.hist(walk_path, bins=40, range=(0.0, 20.0), density=True, color='yellow', label='Random variable X distribution')\n",
    "plt.plot(x, y, color='blue', label='Theoretical Distribution')\n",
    "plt.legend(loc='upper right')\n",
    "plt.show()"
   ]
  },
  {
   "cell_type": "markdown",
   "id": "9db02843",
   "metadata": {},
   "source": [
    "对于双边有界的情况可以设置周期性边界条件，将定义域外的试探平移到定义域内  \n",
    "用Metropolis方法对以下分布进行抽样  \n",
    "$$f(x)=A x^2 e^{-x},x\\in[0,4]$$"
   ]
  },
  {
   "cell_type": "code",
   "execution_count": 10,
   "id": "fcd43561",
   "metadata": {},
   "outputs": [
    {
     "name": "stdout",
     "output_type": "stream",
     "text": [
      "n_accept/N=0.8553\n"
     ]
    }
   ],
   "source": [
    "def r_fx_fy(x, y):\n",
    "    return x*x/y/y*np.exp(y-x)\n",
    "\n",
    "# 用于将试探点移动到定义域内\n",
    "def bc(x, b1, b2):\n",
    "    length = b2 - b1\n",
    "    if x < b1:\n",
    "        return bc(x+length, b1, b2)\n",
    "    if x > b2:\n",
    "        return bc(x-length, b1, b2)\n",
    "    return x\n",
    "\n",
    "# 总步数\n",
    "N = 100000\n",
    "# 每一步的步长范围\n",
    "delta = 1\n",
    "\n",
    "# 起点\n",
    "x0 = 1e-5\n",
    "walk_path = [x0]\n",
    "\n",
    "# 用于记录步数\n",
    "n_accept = 0\n",
    "\n",
    "for _ in range(N):\n",
    "    # 取一个试探位置\n",
    "    x_try = rng.uniform(x0-delta, x0+delta)\n",
    "    x_try = bc(x_try, 0, 4)\n",
    "    # 计算r，如果大于1，则接受\n",
    "    r = r_fx_fy(x_try, x0)\n",
    "    if r > 1:\n",
    "        n_accept += 1\n",
    "        x0 = x_try\n",
    "        walk_path.append(x0)\n",
    "        continue\n",
    "    if r >= rng.random():\n",
    "        n_accept += 1\n",
    "        x0 = x_try\n",
    "        walk_path.append(x0)\n",
    "        continue\n",
    "    walk_path.append(x0)\n",
    "\n",
    "print(f\"n_accept/N={n_accept/N:.4}\")"
   ]
  },
  {
   "cell_type": "code",
   "execution_count": 11,
   "id": "ceed7cff",
   "metadata": {},
   "outputs": [
    {
     "data": {
      "image/png": "[encoded data removed]",
      "text/plain": [
       "<Figure size 500x500 with 1 Axes>"
      ]
     },
     "metadata": {
      "needs_background": "light"
     },
     "output_type": "display_data"
    }
   ],
   "source": [
    "def fx(x):\n",
    "    return x*x*np.exp(-x)/1.5238\n",
    "\n",
    "x = np.arange(0, 4 ,0.1)\n",
    "y = fx(x)\n",
    "\n",
    "plt.figure(figsize=(5, 5), dpi=100)\n",
    "plt.hist(walk_path, bins=40, range=(0.0, 4.0), density=True, color='yellow', label='Random variable X distribution')\n",
    "plt.plot(x, y, color='blue', label='Theoretical Distribution')\n",
    "plt.legend(loc='upper left')\n",
    "plt.ylim((0, 0.5))\n",
    "plt.show()"
   ]
  }
 ],
 "metadata": {
  "kernelspec": {
   "display_name": "Python 3.9.7 ('base')",
   "language": "python",
   "name": "python3"
  },
  "language_info": {
   "codemirror_mode": {
    "name": "ipython",
    "version": 3
   },
   "file_extension": ".py",
   "mimetype": "text/x-python",
   "name": "python",
   "nbconvert_exporter": "python",
   "pygments_lexer": "ipython3",
   "version": "3.9.7"
  },
  "vscode": {
   "interpreter": {
    "hash": "0b7b812933345d26f0b58fb443cd8249e5efdef841fff77405b77cb1b87b4bd3"
   }
  }
 },
 "nbformat": 4,
 "nbformat_minor": 5
}
