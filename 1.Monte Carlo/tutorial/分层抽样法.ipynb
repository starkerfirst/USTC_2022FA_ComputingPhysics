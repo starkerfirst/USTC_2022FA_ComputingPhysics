{
 "cells": [
  {
   "cell_type": "markdown",
   "id": "ba6f1f45",
   "metadata": {},
   "source": [
    "使用蒙特卡洛方法计算积分的方差为$\\sigma^2=V/n$，其中$V$是被积函数的方差  \n",
    "蒙特卡洛方法的误差来自随机点分布不均匀，如果把抽样区域分层，并规定每一层抽样的点数，就可以减小随机点的不均匀性  \n",
    "另外，分层之后每一层的方差可能不同，在方差大的层分配更多的抽样点，更有利于减小方差  \n",
    "合理地划分积分区域和点数可以减小误差，但是这需要对被积函数有一定的了解，如果划分不合理，反而可能会加大误差  \n",
    "大多数情况下，如果对被积函数了解不够，做均匀分层抽样即可  "
   ]
  },
  {
   "cell_type": "markdown",
   "id": "1f3ded2d",
   "metadata": {},
   "source": [
    "计算积分$I=\\int_{0}^{\\pi}\\sin^2{x}dx$  \n",
    "先将积分区域变换到$[0,1]$区间，计算最终结果时再恢复  \n",
    "原始蒙特卡洛方法"
   ]
  },
  {
   "cell_type": "code",
   "execution_count": 1,
   "id": "97478320",
   "metadata": {},
   "outputs": [],
   "source": [
    "import numpy as np\n",
    "from numpy.random import default_rng\n",
    "\n",
    "rng = default_rng()"
   ]
  },
  {
   "cell_type": "code",
   "execution_count": 2,
   "id": "3354e5ec",
   "metadata": {},
   "outputs": [],
   "source": [
    "# 变换后的被积函数\n",
    "def integrand(x):\n",
    "    return np.sin(np.pi*x)**2"
   ]
  },
  {
   "cell_type": "code",
   "execution_count": 3,
   "id": "3e50f03d",
   "metadata": {},
   "outputs": [
    {
     "name": "stdout",
     "output_type": "stream",
     "text": [
      "结果：1.5725494175681252\n",
      "误差：0.1116%\n"
     ]
    }
   ],
   "source": [
    "N = 10**6\n",
    "X = rng.random(N)\n",
    "Y = integrand(X)\n",
    "I = np.pi*sum(Y)/N\n",
    "print(f\"结果：{I}\")\n",
    "I0 = np.pi/2\n",
    "print(f\"误差：{abs(I0-I)/I0:.4%}\")"
   ]
  },
  {
   "cell_type": "markdown",
   "id": "2d79e2d5",
   "metadata": {},
   "source": [
    "均匀分层抽样"
   ]
  },
  {
   "cell_type": "code",
   "execution_count": 4,
   "id": "023e2d76",
   "metadata": {
    "scrolled": true
   },
   "outputs": [
    {
     "name": "stdout",
     "output_type": "stream",
     "text": [
      "结果：1.5710738968834188\n",
      "误差：0.0177%\n"
     ]
    }
   ],
   "source": [
    "# 对积分区域进行划分\n",
    "N_divide = 10\n",
    "edges = np.linspace(0, 1, N_divide + 1)\n",
    "# 设置每个区域的点数\n",
    "N_list = [10**5 for _ in range(N_divide)]\n",
    "# 分别计算每个区域的积分估计值\n",
    "I_list = [0 for _ in range(N_divide)]\n",
    "for i in range(N_divide):\n",
    "    X = rng.uniform(edges[i], edges[i+1], N_list[i])\n",
    "    Y = integrand(X)\n",
    "    I_list[i] = np.pi/10*sum(Y)/N_list[i]\n",
    "# 求和得到总的积分估计值\n",
    "I = sum(I_list)\n",
    "print(f\"结果：{I}\")\n",
    "print(f\"误差：{abs(I0-I)/I0:.4%}\")"
   ]
  }
 ],
 "metadata": {
  "kernelspec": {
   "display_name": "Python 3 (ipykernel)",
   "language": "python",
   "name": "python3"
  },
  "language_info": {
   "codemirror_mode": {
    "name": "ipython",
    "version": 3
   },
   "file_extension": ".py",
   "mimetype": "text/x-python",
   "name": "python",
   "nbconvert_exporter": "python",
   "pygments_lexer": "ipython3",
   "version": "3.9.12"
  }
 },
 "nbformat": 4,
 "nbformat_minor": 5
}
