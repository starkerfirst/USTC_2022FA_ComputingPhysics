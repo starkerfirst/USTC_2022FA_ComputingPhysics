{
 "cells": [
  {
   "cell_type": "markdown",
   "id": "c5348ca3",
   "metadata": {},
   "source": [
    "# 第一类舍选法"
   ]
  },
  {
   "cell_type": "markdown",
   "id": "ae410869",
   "metadata": {},
   "source": [
    "舍选法的基本思想是先产生均匀的随机数，然后在密度函数大的地方保留较多的随机数，在密度函数小的地方保留较少的随机数  \n",
    "使用舍选法对概率密度函数如下的随机变量进行抽样  \n",
    "$$f(x)=2x, x\\in[0,1]$$"
   ]
  },
  {
   "cell_type": "code",
   "execution_count": 1,
   "id": "b5af3d54",
   "metadata": {},
   "outputs": [],
   "source": [
    "import time\n",
    "import numpy as np\n",
    "from numpy.random import default_rng\n",
    "import matplotlib.pyplot as plt\n",
    "\n",
    "rng = default_rng()"
   ]
  },
  {
   "cell_type": "code",
   "execution_count": 2,
   "id": "5c5c3eb4",
   "metadata": {
    "scrolled": true
   },
   "outputs": [],
   "source": [
    "def fx(x):\n",
    "    return x\n",
    "\n",
    "N = 0\n",
    "X = []\n",
    "\n",
    "#start = time.time()\n",
    "while N < 10000:\n",
    "    xi_1, xi_2 = rng.random(2)\n",
    "    if fx(xi_1) >= xi_2:\n",
    "        X.append(xi_1)\n",
    "        N += 1\n",
    "#print(f\"Time: {time.time() - start} s\")"
   ]
  },
  {
   "cell_type": "code",
   "execution_count": 3,
   "id": "696d60a9",
   "metadata": {
    "scrolled": true
   },
   "outputs": [
    {
     "data": {
      "image/png": "[encoded data removed]",
      "text/plain": [
       "<Figure size 432x288 with 1 Axes>"
      ]
     },
     "metadata": {
      "needs_background": "light"
     },
     "output_type": "display_data"
    }
   ],
   "source": [
    "plt.hist(X, bins=10, range=(0.0,1.0), density=True, color='yellow')\n",
    "plt.show()"
   ]
  },
  {
   "cell_type": "markdown",
   "id": "5cb0c74e",
   "metadata": {},
   "source": [
    "在对这个分布使用舍选法进行抽样时，判断是否接受随机数的条件是$\\xi_2\\leq \\xi_1$由于$\\xi_1\\xi_2$是相互独立的，所以每次产生随机数时都对应了概率相等的两种情况  \n",
    "$\\xi_1=a, \\xi_2=b$和$\\xi_1=b, \\xi_2=a$，两种情况中，必有一种使$\\xi_2\\leq \\xi_1$成立因此，所以可以不必区分$\\xi_1\\xi_2$，只需要取$\\max{(\\xi_1,\\xi_2)}$为抽样值即可  \n",
    "这个结论可以推广到高次的情况，对$f(x)=nx^{n-1}, x\\in[0,1]$进行抽样时，取$\\max{(\\xi_1\\xi_2\\cdots\\xi_n)}$为抽样值即可，用这种方法可以避免计算反函数中的开方"
   ]
  },
  {
   "cell_type": "markdown",
   "id": "df2cd1c3",
   "metadata": {},
   "source": [
    "# 第二类舍选法"
   ]
  },
  {
   "cell_type": "markdown",
   "id": "75df19f7",
   "metadata": {},
   "source": [
    "第一类舍选法使用有限区间上的均匀分布，如果需要抽样的密度函数定义域不是有限的，就不能使用第一类舍选法  \n",
    "对概率密度函数做以下变换  \n",
    "$$f(x)=L\\cdot\\frac{f(x)}{Lh(x)}h(x)=Lg(x)h(x)$$  \n",
    "其中$g(x)=f(x)/(Lh(x))$，引入L的目的是使$g(x)\\in[0,1]$，这样就可以让$g(x)$和一个[0,1]范围内的随机变量比大小，第一类舍选法中出现过类似的操作  \n",
    "同时$h(x)$在积分区间上要归一化，这样就可以将$h(x)$视为概率密度函数，依据其产生随机数，这一点随后也会用到  \n",
    "假设随机变量$\\eta$服从概率密度函数为$f(x)$的分布，那么就有以下关系  \n",
    "$$p(\\eta\\leq x)=\\int_{-\\infty}^{x}f(x)dx=\\int_{-\\infty}^{x}Lg(x)h(x)dx$$\n",
    "令$t=H(x)$，其中$H(x)$是$h(x)$的原函数  \n",
    "$$p\\left(\\eta\\leq H^{-1}(t)\\right)=L\\int_{0}^{t}g\\left(H^{-1}(t)\\right)dt$$  \n",
    "对$t$求导得到概率密度函数  \n",
    "$$f\\left(H^{-1}(t)\\right)=Lg\\left(H^{-1}(t)\\right)$$\n",
    "如果$t$服从[0,1]范围内的均匀分布，那么$\\eta_h=H^{-1}(t)$服从密度函数为$h(x)$的分布，产生一个随机数$\\eta_h$，这个随机数被接受的概率正比于$g(\\eta_h)$  \n",
    "因此第二类舍选法的流程为：  \n",
    "在[0,1]区间上抽取均匀分布的随机数$\\xi$，并由$h(x)$抽样得到$\\eta_h$  \n",
    "判断$\\xi\\leq g(\\eta_h)$是否成立，如果不成立则返回上一步  \n",
    "选取$\\eta=\\eta_h$作为服从密度函数$f(x)$的一个抽样值"
   ]
  },
  {
   "cell_type": "markdown",
   "id": "7a5a32f3",
   "metadata": {},
   "source": [
    "用第二类舍选法产生标准正态分布的抽样值  \n",
    "由于标准正态分布的对称性，可以只考虑大于0的部分\n",
    "$$f(x)=\\sqrt{\\frac{2}{\\pi}}\\exp{\\left(-\\frac{x^2}{2}\\right)}, x\\in(0,+\\infty)$$  \n",
    "令$L=\\sqrt{(2e/\\pi)}, h(x)=e^{-x}, g(x)=\\exp{\\left(-(x-1)^2/2\\right)}, x\\in(0,+\\infty)$  \n",
    "根据直接抽样法得到$\\eta_h=-\\ln{\\xi_1}$，并产生随机数$\\xi_2$，判别$\\xi_2\\leq g(\\eta_h)$，即  \n",
    "$$(\\eta_h-1)^2\\leq -2\\ln{\\xi_2}$$"
   ]
  },
  {
   "cell_type": "code",
   "execution_count": 4,
   "id": "9cf048dc",
   "metadata": {},
   "outputs": [],
   "source": [
    "X = []\n",
    "N = 0\n",
    "while N < 10000:\n",
    "    xi_1, xi_2 = rng.random(2)\n",
    "    eta_h = -np.log(xi_1)\n",
    "    if (eta_h - 1)**2 <= -2*np.log(xi_2):\n",
    "        X.append(eta_h)\n",
    "        N += 1"
   ]
  },
  {
   "cell_type": "code",
   "execution_count": 5,
   "id": "fda02708",
   "metadata": {},
   "outputs": [
    {
     "data": {
      "image/png": "[encoded data removed]",
      "text/plain": [
       "<Figure size 432x288 with 1 Axes>"
      ]
     },
     "metadata": {
      "needs_background": "light"
     },
     "output_type": "display_data"
    }
   ],
   "source": [
    "plt.hist(X, color='yellow', density=True)\n",
    "plt.show()"
   ]
  }
 ],
 "metadata": {
  "kernelspec": {
   "display_name": "Python 3 (ipykernel)",
   "language": "python",
   "name": "python3"
  },
  "language_info": {
   "codemirror_mode": {
    "name": "ipython",
    "version": 3
   },
   "file_extension": ".py",
   "mimetype": "text/x-python",
   "name": "python",
   "nbconvert_exporter": "python",
   "pygments_lexer": "ipython3",
   "version": "3.9.12"
  }
 },
 "nbformat": 4,
 "nbformat_minor": 5
}
