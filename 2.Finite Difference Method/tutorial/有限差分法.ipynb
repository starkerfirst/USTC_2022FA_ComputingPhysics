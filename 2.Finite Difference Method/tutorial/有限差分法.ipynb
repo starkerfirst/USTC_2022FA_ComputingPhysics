{
 "cells": [
  {
   "cell_type": "markdown",
   "id": "86a9bca4",
   "metadata": {},
   "source": [
    "根据泊松方程  \n",
    "$$\\frac{\\partial^2 \\phi}{\\partial x^2}+\\frac{\\partial^2 \\phi}{\\partial y^2}=q(x,y)$$\n",
    "可以得到如下差分方程  \n",
    "$$\\phi_{ij}=\\frac{1}{4}(\\phi_{i-1,j}+\\phi_{i+1,j}+\\phi_{i,j-1}+\\phi_{i,j+1}-h^2 q_{ij})$$\n",
    "假设求解区域共有N个点，则可以写出N个差分方程  \n",
    "这些差分方程中的每一个$\\phi$都是是需要求解的N个$\\phi_{ij}$之一或者边界上已知的函数值  \n",
    "因此联立含有N个未知数的N个方程，就可以求解$\\phi_{ij}$  \n",
    "为了方便表述，下文中将方程组用矩阵的形式表示  \n",
    "$$Ax=b$$\n",
    "其中$A$为系数矩阵，$x$为解向量，$b$为常数向量"
   ]
  },
  {
   "cell_type": "markdown",
   "id": "41c052fc",
   "metadata": {},
   "source": [
    "用有限差分法计算方程的数值解  \n",
    "$$\n",
    "\\left \\{\n",
    "    {\\begin{array}{cc}\n",
    "        \\frac{\\partial^2 \\phi}{\\partial x^2}+\\frac{\\partial^2 \\phi}{\\partial y^2}=0,0\\leq x,y\\leq1 \\\\\n",
    "        \\phi(x,0)=\\phi(x,1)=0,\\phi(0,y)=\\phi(1,y)=1 \\\\\n",
    "    \\end{array}}\n",
    "\\right .\n",
    "$$"
   ]
  },
  {
   "cell_type": "code",
   "execution_count": 1,
   "id": "a7b67526",
   "metadata": {},
   "outputs": [],
   "source": [
    "import numpy as np\n",
    "import matplotlib.pyplot as plt"
   ]
  },
  {
   "cell_type": "markdown",
   "id": "b9a7aede",
   "metadata": {},
   "source": [
    "首先，对求解区域进行划分，并标出求解区域的边界点和求解区域内的点"
   ]
  },
  {
   "cell_type": "code",
   "execution_count": 2,
   "id": "f57929a7",
   "metadata": {},
   "outputs": [
    {
     "name": "stdout",
     "output_type": "stream",
     "text": [
      "[[ True  True  True  True  True  True  True  True  True  True  True]\n",
      " [ True False False False False False False False False False  True]\n",
      " [ True False False False False False False False False False  True]\n",
      " [ True False False False False False False False False False  True]\n",
      " [ True False False False False False False False False False  True]\n",
      " [ True False False False False False False False False False  True]\n",
      " [ True False False False False False False False False False  True]\n",
      " [ True False False False False False False False False False  True]\n",
      " [ True False False False False False False False False False  True]\n",
      " [ True False False False False False False False False False  True]\n",
      " [ True  True  True  True  True  True  True  True  True  True  True]]\n"
     ]
    }
   ],
   "source": [
    "# 求解区域的范围\n",
    "x_range = [0.0, 1.0]\n",
    "y_range = [0.0, 1.0]\n",
    "\n",
    "# 划分的步长\n",
    "h = 0.1\n",
    "\n",
    "# 每一个点的坐标\n",
    "x = np.arange(x_range[0], x_range[1]+h, h)\n",
    "y = np.arange(y_range[0], y_range[1]+h, h)\n",
    "\n",
    "# 格点数目\n",
    "x_n_grid = len(x)\n",
    "y_n_grid = len(y)\n",
    "\n",
    "# 边界点和求解区域，边界点标记为True，待求点标记为False\n",
    "area = np.full(shape=(x_n_grid, y_n_grid), fill_value=True)\n",
    "area[1: -1, 1: -1] = np.full(shape=(x_n_grid-2, y_n_grid-2), fill_value=False)\n",
    "\n",
    "print(area)"
   ]
  },
  {
   "cell_type": "markdown",
   "id": "e29fa84f",
   "metadata": {},
   "source": [
    "求解区域是二维的，而在方程中每一个待求点对应系数矩阵的一行以及解向量和常数向量中的一个数，因此需要建立一个二维和一维之间的对应关系"
   ]
  },
  {
   "cell_type": "code",
   "execution_count": 3,
   "id": "6ba55a9e",
   "metadata": {},
   "outputs": [
    {
     "name": "stdout",
     "output_type": "stream",
     "text": [
      "[[-1 -1 -1 -1 -1 -1 -1 -1 -1 -1 -1]\n",
      " [-1  0  1  2  3  4  5  6  7  8 -1]\n",
      " [-1  9 10 11 12 13 14 15 16 17 -1]\n",
      " [-1 18 19 20 21 22 23 24 25 26 -1]\n",
      " [-1 27 28 29 30 31 32 33 34 35 -1]\n",
      " [-1 36 37 38 39 40 41 42 43 44 -1]\n",
      " [-1 45 46 47 48 49 50 51 52 53 -1]\n",
      " [-1 54 55 56 57 58 59 60 61 62 -1]\n",
      " [-1 63 64 65 66 67 68 69 70 71 -1]\n",
      " [-1 72 73 74 75 76 77 78 79 80 -1]\n",
      " [-1 -1 -1 -1 -1 -1 -1 -1 -1 -1 -1]]\n"
     ]
    }
   ],
   "source": [
    "# 建立编号矩阵，其中的每一个编号对应区域中的一个点\n",
    "index_matrix = np.zeros((x_n_grid, y_n_grid), dtype=int)\n",
    "k = 0\n",
    "\n",
    "for i in range(x_n_grid):\n",
    "    for j in range(y_n_grid):\n",
    "        # 如果对应的是边界点，则记为-1\n",
    "        if area[i, j]:\n",
    "            index_matrix[i, j] = -1\n",
    "        # 如果对应的是待求点，则依次编号\n",
    "        else:\n",
    "            index_matrix[i, j] = k\n",
    "            k += 1\n",
    "            \n",
    "# 待求点的数量\n",
    "size = k \n",
    "print(index_matrix)"
   ]
  },
  {
   "cell_type": "code",
   "execution_count": 4,
   "id": "b25ac10a",
   "metadata": {},
   "outputs": [
    {
     "name": "stdout",
     "output_type": "stream",
     "text": [
      "[[1. 1. 1. 1. 1. 1. 1. 1. 1. 1. 1.]\n",
      " [0. 0. 0. 0. 0. 0. 0. 0. 0. 0. 0.]\n",
      " [0. 0. 0. 0. 0. 0. 0. 0. 0. 0. 0.]\n",
      " [0. 0. 0. 0. 0. 0. 0. 0. 0. 0. 0.]\n",
      " [0. 0. 0. 0. 0. 0. 0. 0. 0. 0. 0.]\n",
      " [0. 0. 0. 0. 0. 0. 0. 0. 0. 0. 0.]\n",
      " [0. 0. 0. 0. 0. 0. 0. 0. 0. 0. 0.]\n",
      " [0. 0. 0. 0. 0. 0. 0. 0. 0. 0. 0.]\n",
      " [0. 0. 0. 0. 0. 0. 0. 0. 0. 0. 0.]\n",
      " [0. 0. 0. 0. 0. 0. 0. 0. 0. 0. 0.]\n",
      " [1. 1. 1. 1. 1. 1. 1. 1. 1. 1. 1.]]\n"
     ]
    }
   ],
   "source": [
    "# 边界条件\n",
    "def edge_value(x, y):\n",
    "    if x == 0.0 or x == 1.0:\n",
    "        return 1.0\n",
    "    if y == 0.0 or y == 1.0:\n",
    "        return 0.0\n",
    "\n",
    "# 建立函数值矩阵\n",
    "value_matrix = np.zeros(shape=(x_n_grid, y_n_grid))\n",
    "\n",
    "# 填入边界值\n",
    "for i in range(x_n_grid):\n",
    "    for j in range(y_n_grid):\n",
    "        if area[i, j]:\n",
    "            value_matrix[i, j] = edge_value(x[i], y[j])\n",
    "            \n",
    "print(value_matrix)"
   ]
  },
  {
   "cell_type": "code",
   "execution_count": 5,
   "id": "24254bd5",
   "metadata": {},
   "outputs": [
    {
     "name": "stdout",
     "output_type": "stream",
     "text": [
      "[[0. 0. 0. 0. 0. 0. 0. 0. 0. 0. 0.]\n",
      " [0. 0. 0. 0. 0. 0. 0. 0. 0. 0. 0.]\n",
      " [0. 0. 0. 0. 0. 0. 0. 0. 0. 0. 0.]\n",
      " [0. 0. 0. 0. 0. 0. 0. 0. 0. 0. 0.]\n",
      " [0. 0. 0. 0. 0. 0. 0. 0. 0. 0. 0.]\n",
      " [0. 0. 0. 0. 0. 0. 0. 0. 0. 0. 0.]\n",
      " [0. 0. 0. 0. 0. 0. 0. 0. 0. 0. 0.]\n",
      " [0. 0. 0. 0. 0. 0. 0. 0. 0. 0. 0.]\n",
      " [0. 0. 0. 0. 0. 0. 0. 0. 0. 0. 0.]\n",
      " [0. 0. 0. 0. 0. 0. 0. 0. 0. 0. 0.]\n",
      " [0. 0. 0. 0. 0. 0. 0. 0. 0. 0. 0.]]\n"
     ]
    }
   ],
   "source": [
    "# q(x,y)\n",
    "def q(x, y):\n",
    "    return 0.0\n",
    "\n",
    "# 计算每一点处的q(x,y)\n",
    "q_matrix = np.zeros((x_n_grid, y_n_grid))\n",
    "\n",
    "for i in range(x_n_grid):\n",
    "    for j in range(y_n_grid):\n",
    "        if not area[i, j]:\n",
    "            q_matrix[i, j] = q(x[i], y[j])\n",
    "\n",
    "print(q_matrix)"
   ]
  },
  {
   "cell_type": "markdown",
   "id": "463fbdc6",
   "metadata": {},
   "source": [
    "写出系数矩阵$A$和常数向量$b$"
   ]
  },
  {
   "cell_type": "code",
   "execution_count": 6,
   "id": "1e2cfed8",
   "metadata": {},
   "outputs": [
    {
     "name": "stdout",
     "output_type": "stream",
     "text": [
      "(81, 81)\n",
      "(81, 1)\n"
     ]
    }
   ],
   "source": [
    "# 建立列表用来记录系数矩阵和常数向量\n",
    "A = []\n",
    "b = []\n",
    "\n",
    "for i in range(x_n_grid):\n",
    "    for j in range(y_n_grid):\n",
    "        # 如果是待求点\n",
    "        if not area[i, j]:\n",
    "            # 初始化Aij和bij\n",
    "            Aij = np.zeros(size)\n",
    "            bij = -0.25*h*h*q_matrix[i, j]\n",
    "            # Aij的对应位置为1\n",
    "            Aij[index_matrix[i, j]] = 1.0\n",
    "            # 分别判断周围的点是待求点还是边界点\n",
    "            # 如果是边界点，bij的对应位置为1/4*value\n",
    "            # 如果是待求点，Aij的对应位置为-1/4\n",
    "            if area[i-1, j]:\n",
    "                bij += 0.25*value_matrix[i-1, j]\n",
    "            else:\n",
    "                Aij[index_matrix[i-1, j]] =-0.25\n",
    "            if area[i+1, j]:\n",
    "                bij += 0.25*value_matrix[i+1, j]\n",
    "            else:\n",
    "                Aij[index_matrix[i+1, j]] =-0.25\n",
    "            if area[i, j-1]:\n",
    "                bij += 0.25*value_matrix[i, j-1]\n",
    "            else:\n",
    "                Aij[index_matrix[i, j-1]] =-0.25\n",
    "            if area[i, j+1]:\n",
    "                bij += 0.25*value_matrix[i, j+1]\n",
    "            else:\n",
    "                Aij[index_matrix[i, j+1]] =-0.25\n",
    "            # 将Aij和bij加入A和b\n",
    "            A.append(Aij)\n",
    "            # 写成[bij]是因为b是一个列向量\n",
    "            b.append([bij])\n",
    "\n",
    "# 将A和b转换为ndarray格式，以便进行矩阵运算\n",
    "A = np.array(A)\n",
    "b = np.array(b)\n",
    "print(np.shape(A))\n",
    "print(np.shape(b))"
   ]
  },
  {
   "cell_type": "markdown",
   "id": "3cbdc49f",
   "metadata": {},
   "source": [
    "得到的$A$如下"
   ]
  },
  {
   "cell_type": "code",
   "execution_count": 7,
   "id": "9314b62e",
   "metadata": {},
   "outputs": [
    {
     "data": {
      "image/png": "[encoded data removed]",
      "text/plain": [
       "<Figure size 1000x1000 with 1 Axes>"
      ]
     },
     "metadata": {
      "needs_background": "light"
     },
     "output_type": "display_data"
    }
   ],
   "source": [
    "fig = plt.figure(figsize=(10,10), dpi=100)\n",
    "plt.imshow(A)\n",
    "plt.show()"
   ]
  },
  {
   "cell_type": "markdown",
   "id": "d61f8926",
   "metadata": {},
   "source": [
    "直接解方程$Ax=b$就可以得到所有待求点的解"
   ]
  },
  {
   "cell_type": "code",
   "execution_count": 8,
   "id": "87d8453b",
   "metadata": {},
   "outputs": [
    {
     "data": {
      "image/png": "[encoded data removed]",
      "text/plain": [
       "<Figure size 500x500 with 1 Axes>"
      ]
     },
     "metadata": {
      "needs_background": "light"
     },
     "output_type": "display_data"
    }
   ],
   "source": [
    "# 解方程\n",
    "X = np.linalg.solve(A,b)\n",
    "\n",
    "# 将解填入求解区域中\n",
    "for i in range(x_n_grid):\n",
    "    for j in range(y_n_grid):\n",
    "        if not area[i, j]:\n",
    "            value_matrix[i, j] = X[index_matrix[i, j], 0]\n",
    "            \n",
    "fig = plt.figure(figsize=(5, 5), dpi=100)\n",
    "plt.contourf(x, y, value_matrix.T)\n",
    "plt.show()"
   ]
  },
  {
   "cell_type": "markdown",
   "id": "5e0b8d13",
   "metadata": {},
   "source": [
    "当系数矩阵很大时，直接解方程组很困难，可以使用迭代法"
   ]
  },
  {
   "cell_type": "markdown",
   "id": "f4cbd5cd",
   "metadata": {},
   "source": [
    "Jacobi迭代法一种简单的迭代法，其迭代格式为  \n",
    "$$X^{(k+1)}=BX^{(k)}+g$$\n",
    "其中  \n",
    "$$B=I-D^{-1}A,g=D^{-1}b$$\n",
    "$D$是$A$的对角元素组成对角矩阵"
   ]
  },
  {
   "cell_type": "code",
   "execution_count": 9,
   "id": "f33fc4b8",
   "metadata": {},
   "outputs": [
    {
     "name": "stdout",
     "output_type": "stream",
     "text": [
      "212\n"
     ]
    }
   ],
   "source": [
    "# Jacobi迭代用到的各个矩阵和向量\n",
    "D_inv = np.linalg.inv(np.diag(np.diag(A)))\n",
    "I = np.diag(np.ones(size))\n",
    "B = I - D_inv.dot(A)\n",
    "g = D_inv.dot(b)\n",
    "\n",
    "# 迭代初始值\n",
    "X0 = np.zeros((size, 1))\n",
    "\n",
    "X = B.dot(X0) + g\n",
    "\n",
    "# 迭代次数\n",
    "k = 1\n",
    "\n",
    "while np.max(abs(X-X0)) > 1e-6:\n",
    "    X0 = X\n",
    "    X = B.dot(X0) + g\n",
    "    k += 1\n",
    "\n",
    "print(k)"
   ]
  },
  {
   "cell_type": "code",
   "execution_count": 10,
   "id": "a5cceeff",
   "metadata": {},
   "outputs": [
    {
     "data": {
      "image/png": "[encoded data removed]",
      "text/plain": [
       "<Figure size 500x500 with 1 Axes>"
      ]
     },
     "metadata": {
      "needs_background": "light"
     },
     "output_type": "display_data"
    }
   ],
   "source": [
    "# 将解填入求解区域中\n",
    "for i in range(x_n_grid):\n",
    "    for j in range(y_n_grid):\n",
    "        if not area[i, j]:\n",
    "            value_matrix[i, j] = X[index_matrix[i, j], 0]\n",
    "            \n",
    "fig = plt.figure(figsize=(5, 5), dpi=100)\n",
    "plt.contourf(x, y, value_matrix.T)\n",
    "plt.show()"
   ]
  },
  {
   "cell_type": "markdown",
   "id": "1bca9cdf",
   "metadata": {},
   "source": [
    "Gauss-Seidel迭代是Jacobi迭代改进后的方法，收敛速度更快，其迭代格式为  \n",
    "$$X^{(k+1)}=SX^{(k)}+f$$\n",
    "其中  \n",
    "$$S=-(D+L)^{-1}U,f=(D+L)^{-1}b$$\n",
    "$D$是$A$的对角部分，$U$和$L$分别是不包括对角部分的上三角和下三角部分"
   ]
  },
  {
   "cell_type": "code",
   "execution_count": 11,
   "id": "988c4a7c",
   "metadata": {},
   "outputs": [
    {
     "name": "stdout",
     "output_type": "stream",
     "text": [
      "114\n"
     ]
    }
   ],
   "source": [
    "# Gauss-Seidel迭代用到的各个矩阵和向量\n",
    "D = np.diag(np.diag(A))\n",
    "U = np.triu(A, k=1)\n",
    "L = np.tril(A, k=-1)\n",
    "D_plus_L_inv = np.linalg.inv(D+L)\n",
    "S = -D_plus_L_inv.dot(U)\n",
    "f = D_plus_L_inv.dot(b)\n",
    "\n",
    "# 迭代初始值\n",
    "X0 = np.zeros((size, 1))\n",
    "\n",
    "X = S.dot(X0) + f\n",
    "\n",
    "# 迭代次数\n",
    "k = 1\n",
    "\n",
    "while np.max(abs(X-X0)) > 1e-6:\n",
    "    X0 = X\n",
    "    X = S.dot(X0) + f\n",
    "    k += 1\n",
    "\n",
    "print(k)"
   ]
  },
  {
   "cell_type": "code",
   "execution_count": 12,
   "id": "217b21b5",
   "metadata": {},
   "outputs": [
    {
     "data": {
      "image/png": "[encoded data removed]",
      "text/plain": [
       "<Figure size 500x500 with 1 Axes>"
      ]
     },
     "metadata": {
      "needs_background": "light"
     },
     "output_type": "display_data"
    }
   ],
   "source": [
    "# 将解填入求解区域中\n",
    "for i in range(x_n_grid):\n",
    "    for j in range(y_n_grid):\n",
    "        if not area[i, j]:\n",
    "            value_matrix[i, j] = X[index_matrix[i, j] ,0]\n",
    "            \n",
    "fig = plt.figure(figsize=(5, 5), dpi=100)\n",
    "plt.contourf(x, y, value_matrix.T)\n",
    "plt.show()"
   ]
  },
  {
   "cell_type": "markdown",
   "id": "54af0d90",
   "metadata": {},
   "source": [
    "Gauss-Seidel迭代可以进一步优化为松弛迭代，迭代格式为  \n",
    "$$X^{(k+1)}=S_\\omega X^{(k)}+f_\\omega$$\n",
    "其中  \n",
    "$$S_\\omega=(I+\\omega D^{-1}L)^{-1}[(1-\\omega)I-\\omega D^{-1}U],f_\\omega=\\omega(I+\\omega D^{-1}L)^{-1}D^{-1}b$$\n",
    "$\\omega$通常根据经验选取，当$1<\\omega<2$时收敛较快，称为超松弛迭代  \n",
    "计算正方形区域和矩形区域的第一类边值问题时，最佳的$\\omega$可以在理论上确定"
   ]
  },
  {
   "cell_type": "code",
   "execution_count": 13,
   "id": "4e8b6f88",
   "metadata": {},
   "outputs": [
    {
     "name": "stdout",
     "output_type": "stream",
     "text": [
      "29\n"
     ]
    }
   ],
   "source": [
    "# 确定omega\n",
    "omega = 2/(1+np.sin(np.pi/(x_n_grid-1)))\n",
    "\n",
    "# 迭代需要的各个矩阵和向量\n",
    "tmp = np.linalg.inv(I+omega*D_inv.dot(L))\n",
    "S_omega = tmp.dot((1-omega)*I-omega*D_inv.dot(U))\n",
    "f_omega = omega*tmp.dot(D_inv.dot(b))\n",
    "\n",
    "# 迭代初始值\n",
    "X0 = np.zeros((size, 1))\n",
    "\n",
    "X = S_omega.dot(X0) + f_omega\n",
    "\n",
    "# 迭代次数\n",
    "k = 1\n",
    "\n",
    "while np.max(abs(X-X0)) > 1e-6:\n",
    "    X0 = X\n",
    "    X = S_omega.dot(X0) + f_omega\n",
    "    k += 1\n",
    "\n",
    "print(k)"
   ]
  },
  {
   "cell_type": "code",
   "execution_count": 14,
   "id": "1c4d214e",
   "metadata": {},
   "outputs": [
    {
     "data": {
      "image/png": "[encoded data removed]",
      "text/plain": [
       "<Figure size 500x500 with 1 Axes>"
      ]
     },
     "metadata": {
      "needs_background": "light"
     },
     "output_type": "display_data"
    }
   ],
   "source": [
    "# 将解填入求解区域中\n",
    "for i in range(x_n_grid):\n",
    "    for j in range(y_n_grid):\n",
    "        if not area[i, j]:\n",
    "            value_matrix[i, j] = X[index_matrix[i, j], 0]\n",
    "            \n",
    "fig = plt.figure(figsize=(5, 5), dpi=100)\n",
    "plt.contourf(x, y, value_matrix.T)\n",
    "plt.show()"
   ]
  },
  {
   "cell_type": "markdown",
   "id": "e5ec0d68",
   "metadata": {},
   "source": [
    "将上述内容定义为一个class以便调用"
   ]
  },
  {
   "cell_type": "code",
   "execution_count": 15,
   "id": "4bc9843b",
   "metadata": {},
   "outputs": [],
   "source": [
    "def edge_value(x, y):\n",
    "    if x == 0.0 or x == 1.0:\n",
    "        return 1.0\n",
    "    if y == 0.0 or y == 1.0:\n",
    "        return 0.0\n",
    "\n",
    "def q(x, y):\n",
    "    return 0.0\n",
    "\n",
    "class poisson_solver:\n",
    "    \n",
    "    def __init__(self, x_range, y_range, h, edge_value, q):\n",
    "        self.x_range = x_range\n",
    "        self.y_range = y_range\n",
    "        self.h = h\n",
    "        self.x = np.arange(x_range[0], x_range[1] + h, h)\n",
    "        self.y = np.arange(y_range[0], y_range[1] + h, h)\n",
    "        self.x_n_grid = len(self.x)\n",
    "        self.y_n_grid = len(self.y)\n",
    "        self.area = np.full(shape=(self.x_n_grid, self.y_n_grid), fill_value=True)\n",
    "        self.area[1: -1, 1: -1] = np.full(shape=(self.x_n_grid - 2, self.y_n_grid - 2), fill_value=False)\n",
    "        self.index_matrix = np.zeros((self.x_n_grid, self.y_n_grid), dtype=int)\n",
    "        self.value_matrix = np.zeros(shape=(self.x_n_grid, self.y_n_grid))\n",
    "        self.q_matrix = np.zeros((self.x_n_grid, self.y_n_grid))\n",
    "        \n",
    "    def setup_values(self):\n",
    "        k = 0\n",
    "        for i in range(self.x_n_grid):\n",
    "            for j in range(self.y_n_grid):\n",
    "                if self.area[i, j]:\n",
    "                    self.index_matrix[i, j] = -1\n",
    "                    self.value_matrix[i, j] = edge_value(self.x[i], self.y[j])\n",
    "                else:\n",
    "                    self.index_matrix[i, j] = k\n",
    "                    self.q_matrix[i, j] = q(self.x[i], self.y[j])\n",
    "                    k += 1\n",
    "        self.size = k \n",
    "    \n",
    "    def setup_Ab(self):\n",
    "        A = []\n",
    "        b = []\n",
    "        for i in range(self.x_n_grid):\n",
    "            for j in range(self.y_n_grid):\n",
    "                if not self.area[i, j]:\n",
    "                    Aij = np.zeros(self.size)\n",
    "                    bij = -0.25*self.h*self.h*self.q_matrix[i, j]\n",
    "                    Aij[self.index_matrix[i, j]] = 1.0\n",
    "                    if self.area[i-1, j]:\n",
    "                        bij += 0.25*self.value_matrix[i-1, j]\n",
    "                    else:\n",
    "                        Aij[self.index_matrix[i-1, j]] = -0.25\n",
    "                    if self.area[i+1, j]:\n",
    "                        bij += 0.25*self.value_matrix[i+1, j]\n",
    "                    else:\n",
    "                        Aij[self.index_matrix[i+1, j]] = -0.25\n",
    "                    if self.area[i, j-1]:\n",
    "                        bij += 0.25*self.value_matrix[i, j-1]\n",
    "                    else:\n",
    "                        Aij[self.index_matrix[i, j-1]] = -0.25\n",
    "                    if self.area[i, j+1]:\n",
    "                        bij += 0.25*self.value_matrix[i, j+1]\n",
    "                    else:\n",
    "                        Aij[self.index_matrix[i, j+1]] = -0.25\n",
    "                    A.append(Aij)\n",
    "                    b.append([bij])\n",
    "        self.A = np.array(A)\n",
    "        self.b = np.array(b)\n",
    "        \n",
    "    def X2Matrix(self, X):\n",
    "        for i in range(self.x_n_grid):\n",
    "            for j in range(self.y_n_grid):\n",
    "                if not self.area[i, j]:\n",
    "                    self.value_matrix[i, j] = X[self.index_matrix[i, j], 0]\n",
    "        \n",
    "    def direct_solve(self):\n",
    "        X = np.linalg.solve(self.A, self.b)\n",
    "        self.X2Matrix(X)\n",
    "        \n",
    "    def jacobi_iterate(self):\n",
    "        D_inv = np.linalg.inv(np.diag(np.diag(self.A)))\n",
    "        I = np.diag(np.ones(self.size))\n",
    "        B = I - D_inv.dot(self.A)\n",
    "        g = D_inv.dot(self.b)\n",
    "        X0 = np.zeros((self.size, 1))\n",
    "        X = B.dot(X0) + g\n",
    "        k = 1\n",
    "        while np.max(abs(X-X0)) > 1e-6:\n",
    "            X0 = X\n",
    "            X = B.dot(X0) + g\n",
    "            k += 1\n",
    "        print(\"Converges in %d steps\"%k)\n",
    "        self.X2Matrix(X)\n",
    "        \n",
    "    def gauss_seidel_iterate(self):\n",
    "        D = np.diag(np.diag(self.A))\n",
    "        U = np.triu(self.A, k=1)\n",
    "        L = np.tril(self.A, k=-1)\n",
    "        D_plus_L_inv = np.linalg.inv(D+L)\n",
    "        S = -D_plus_L_inv.dot(U)\n",
    "        f = D_plus_L_inv.dot(self.b)\n",
    "        X0 = np.zeros((self.size, 1))\n",
    "        X = S.dot(X0) + f\n",
    "        k = 1\n",
    "        while np.max(abs(X-X0)) > 1e-6:\n",
    "            X0 = X\n",
    "            X = S.dot(X0) + f\n",
    "            k += 1\n",
    "        print(\"Convergs in %d steps\"%k)\n",
    "        self.X2Matrix(X)\n",
    "            \n",
    "    def relaxation_iterate(self, omega=1.5):\n",
    "        I = np.diag(np.ones(self.size))\n",
    "        D = np.diag(np.diag(self.A))\n",
    "        U = np.triu(self.A, k=1)\n",
    "        L = np.tril(self.A, k=-1)\n",
    "        D_inv = np.linalg.inv(D)\n",
    "        tmp = np.linalg.inv(I+omega*D_inv.dot(L))\n",
    "        S_omega = tmp.dot((1-omega)*I-omega*D_inv.dot(U))            \n",
    "        f_omega = omega*tmp.dot(D_inv.dot(self.b))\n",
    "        X0 = np.zeros((self.size, 1))\n",
    "        X = S_omega.dot(X0) + f_omega\n",
    "        k = 1\n",
    "        while np.max(abs(X-X0)) > 1e-6:\n",
    "            X0 = X\n",
    "            X = S_omega.dot(X0) + f_omega\n",
    "            k += 1\n",
    "        print(\"Converges in %d steps\"%k)\n",
    "        self.X2Matrix(X)\n"
   ]
  },
  {
   "cell_type": "markdown",
   "id": "622abdcb",
   "metadata": {},
   "source": [
    "更密的划分可以得到精确度更高的数值解"
   ]
  },
  {
   "cell_type": "code",
   "execution_count": 16,
   "id": "a28dae03",
   "metadata": {},
   "outputs": [
    {
     "name": "stdout",
     "output_type": "stream",
     "text": [
      "Converges in 107 steps\n"
     ]
    }
   ],
   "source": [
    "solver = poisson_solver([0, 1], [0, 1], 0.025, edge_value, q)\n",
    "solver.setup_values()\n",
    "solver.setup_Ab()\n",
    "solver.relaxation_iterate(omega=2/(1+np.sin(np.pi/(solver.x_n_grid-1))))"
   ]
  },
  {
   "cell_type": "code",
   "execution_count": 17,
   "id": "d9f16566",
   "metadata": {},
   "outputs": [
    {
     "data": {
      "image/png": "[encoded data removed]",
      "text/plain": [
       "<Figure size 500x500 with 1 Axes>"
      ]
     },
     "metadata": {
      "needs_background": "light"
     },
     "output_type": "display_data"
    }
   ],
   "source": [
    "fig = plt.figure(figsize=(5, 5), dpi=100)\n",
    "plt.contourf(solver.x, solver.y, solver.value_matrix.T)\n",
    "plt.show()"
   ]
  },
  {
   "cell_type": "markdown",
   "id": "bb69b67d",
   "metadata": {},
   "source": [
    "如果求解区域有特殊的边界条件，就需要对几个矩阵进行修改  \n",
    "现在新增一个边界条件，$\\phi(0.5,0.5)=1$"
   ]
  },
  {
   "cell_type": "code",
   "execution_count": 18,
   "id": "95ce36b3",
   "metadata": {},
   "outputs": [
    {
     "name": "stdout",
     "output_type": "stream",
     "text": [
      "Converges in 105 steps\n"
     ]
    }
   ],
   "source": [
    "i = j = int((solver.x_n_grid -1)/2)\n",
    "solver.area[i, j] = True\n",
    "solver.setup_values()\n",
    "solver.value_matrix[i, j] = 1.0\n",
    "solver.setup_Ab()\n",
    "solver.relaxation_iterate(omega=2/(1+np.sin(np.pi/(solver.x_n_grid-1))))"
   ]
  },
  {
   "cell_type": "code",
   "execution_count": 19,
   "id": "cbf97a46",
   "metadata": {},
   "outputs": [
    {
     "data": {
      "image/png": "[encoded data removed]",
      "text/plain": [
       "<Figure size 500x500 with 1 Axes>"
      ]
     },
     "metadata": {
      "needs_background": "light"
     },
     "output_type": "display_data"
    }
   ],
   "source": [
    "fig = plt.figure(figsize=(5, 5), dpi=100)\n",
    "plt.contourf(solver.x, solver.y, solver.value_matrix.T)\n",
    "plt.show()"
   ]
  },
  {
   "cell_type": "markdown",
   "id": "81b9bd22",
   "metadata": {},
   "source": [
    "最后我们再看一看Jacobi迭代的迭代矩阵，为了方便查看，将划分的步长改大"
   ]
  },
  {
   "cell_type": "code",
   "execution_count": 20,
   "id": "0f064511",
   "metadata": {},
   "outputs": [],
   "source": [
    "solver = poisson_solver([0, 1], [0, 1], 0.2, edge_value, q)\n",
    "solver.setup_values()\n",
    "solver.setup_Ab()\n",
    "\n",
    "D_inv = np.linalg.inv(np.diag(np.diag(solver.A)))\n",
    "I = np.diag(np.ones(solver.size))\n",
    "B = I - D_inv.dot(solver.A)\n",
    "g = D_inv.dot(solver.b)"
   ]
  },
  {
   "cell_type": "code",
   "execution_count": 21,
   "id": "f32cc792",
   "metadata": {},
   "outputs": [
    {
     "data": {
      "image/png": "[encoded data removed]",
      "text/plain": [
       "<Figure size 500x500 with 1 Axes>"
      ]
     },
     "metadata": {
      "needs_background": "light"
     },
     "output_type": "display_data"
    }
   ],
   "source": [
    "fig = plt.figure(figsize=(5, 5), dpi=100)\n",
    "plt.imshow(B)\n",
    "plt.show()"
   ]
  },
  {
   "cell_type": "markdown",
   "id": "350ebd6a",
   "metadata": {},
   "source": [
    "$B$矩阵每一列的和都小于或等于1，和小于1的列在$g$向量的对应位置有边界信息  \n",
    "把矩阵视为一个特殊的转移概率矩阵，和等于1的列表示在求解区域内游走，和小于1的列表示有可能游走到边界  \n",
    "Jacobi迭代$X^{(k+1)}=BX^{(k)}+g$可以理解为按转移概率矩阵随机游走的期望  \n",
    "从这个角度看，随机游走和迭代法计算偏微分方程数值解的原理是相同的"
   ]
  }
 ],
 "metadata": {
  "kernelspec": {
   "display_name": "Python 3.9.7 ('base')",
   "language": "python",
   "name": "python3"
  },
  "language_info": {
   "codemirror_mode": {
    "name": "ipython",
    "version": 3
   },
   "file_extension": ".py",
   "mimetype": "text/x-python",
   "name": "python",
   "nbconvert_exporter": "python",
   "pygments_lexer": "ipython3",
   "version": "3.9.7"
  },
  "vscode": {
   "interpreter": {
    "hash": "0b7b812933345d26f0b58fb443cd8249e5efdef841fff77405b77cb1b87b4bd3"
   }
  }
 },
 "nbformat": 4,
 "nbformat_minor": 5
}
