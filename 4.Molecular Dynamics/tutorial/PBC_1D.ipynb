{
 "cells": [
  {
   "cell_type": "code",
   "execution_count": 1,
   "id": "060fea5d",
   "metadata": {},
   "outputs": [],
   "source": [
    "import numpy as np\n",
    "import matplotlib.pyplot as plt\n",
    "\n",
    "rng = np.random.default_rng()"
   ]
  },
  {
   "cell_type": "markdown",
   "id": "4776862f",
   "metadata": {},
   "source": [
    "在使用周期性边界条件时，两个粒子有无数多的像(image)，所以不能直接计算出所有像之间的距离，再寻找最小距离  \n",
    "可以先选定一个粒子的一个像作为参考，寻找与之最近的另一个粒子的像，两个像最近时距离一定小于1/2周期，可以以此为判断依据"
   ]
  },
  {
   "cell_type": "code",
   "execution_count": 2,
   "id": "0951cf4e",
   "metadata": {},
   "outputs": [],
   "source": [
    "def pbc(r, ref, L):\n",
    "    while r - ref > L/2:\n",
    "        r -= L\n",
    "    while ref - r > L/2:\n",
    "        r += L\n",
    "    return r"
   ]
  },
  {
   "cell_type": "markdown",
   "id": "00f569aa",
   "metadata": {},
   "source": [
    "选取一个参考像和一些随机的坐标"
   ]
  },
  {
   "cell_type": "code",
   "execution_count": 3,
   "id": "9346d2c5",
   "metadata": {},
   "outputs": [
    {
     "data": {
      "image/png": "[encoded data removed]",
      "text/plain": [
       "<Figure size 1000x100 with 1 Axes>"
      ]
     },
     "metadata": {},
     "output_type": "display_data"
    }
   ],
   "source": [
    "x_ref = 0\n",
    "x_array = rng.uniform(-10, 10, 100)\n",
    "\n",
    "plt.figure(figsize=(10, 1), dpi=100)\n",
    "plt.scatter(x_ref, 0, s=100, color='blue')\n",
    "plt.scatter(x_array, np.zeros_like(x_array), s=5, color='red')\n",
    "plt.xlim((-10, 10))\n",
    "plt.ylim((-1,1))\n",
    "plt.show()"
   ]
  },
  {
   "cell_type": "markdown",
   "id": "dfdb9b02",
   "metadata": {},
   "source": [
    "假设周期长度为$L=5.0$，用上面的函数处理可以找到这些随机点距离参考像最近的像"
   ]
  },
  {
   "cell_type": "code",
   "execution_count": 4,
   "id": "e1313590",
   "metadata": {
    "scrolled": true
   },
   "outputs": [
    {
     "data": {
      "image/png": "[encoded data removed]",
      "text/plain": [
       "<Figure size 1000x100 with 1 Axes>"
      ]
     },
     "metadata": {},
     "output_type": "display_data"
    }
   ],
   "source": [
    "L = 5.0\n",
    "x_image = np.array([pbc(x, x_ref, L) for x in x_array])\n",
    "\n",
    "plt.figure(figsize=(10, 1), dpi=100)\n",
    "plt.scatter(x_ref, 0, s=100, color='blue')\n",
    "plt.scatter(x_image, np.zeros_like(x_image), s=5, color='red')\n",
    "plt.xlim((-10, 10))\n",
    "plt.ylim((-1,1))\n",
    "plt.show()"
   ]
  }
 ],
 "metadata": {
  "kernelspec": {
   "display_name": "Python 3 (ipykernel)",
   "language": "python",
   "name": "python3"
  },
  "language_info": {
   "codemirror_mode": {
    "name": "ipython",
    "version": 3
   },
   "file_extension": ".py",
   "mimetype": "text/x-python",
   "name": "python",
   "nbconvert_exporter": "python",
   "pygments_lexer": "ipython3",
   "version": "3.9.12"
  }
 },
 "nbformat": 4,
 "nbformat_minor": 5
}
